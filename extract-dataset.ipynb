{
 "cells": [
  {
   "cell_type": "code",
   "execution_count": 23,
   "id": "e0243f35-a39e-4cd2-a33e-c223bb46e328",
   "metadata": {},
   "outputs": [],
   "source": [
    "import os\n",
    "import glob\n",
    "import zipfile\n"
   ]
  },
  {
   "cell_type": "code",
   "execution_count": 28,
   "id": "c2bb6384-61a0-4c75-a314-5771a371daeb",
   "metadata": {},
   "outputs": [],
   "source": [
    "# Extract fold Zip files into ./Datasets with parent folders and also,\n",
    "# Create result folder for each dataset\n",
    "\n",
    "for folder in os.listdir('./PrepareDatasets/'):\n",
    "    os.makedirs('./Datasets/'+folder, exist_ok=True)\n",
    "    os.makedirs('./Results/'+folder, exist_ok=True)\n",
    "    for dateset in os.listdir('./PrepareDatasets/'+folder):\n",
    "        zip_file = sorted(glob.glob('./PrepareDatasets/'+folder+'/'+dateset+'/*-fold.zip'))\n",
    "        if len(zip_file):\n",
    "            file_name = (zip_file[0].split('/')[-1]).split('.')[0]\n",
    "            os.makedirs('./Datasets/'+folder+'/'+file_name, exist_ok=True)\n",
    "            os.makedirs('./Results/'+folder+'/'+file_name, exist_ok=True)\n",
    "            with zipfile.ZipFile(zip_file[0], 'r') as zip_ref:\n",
    "                zip_ref.extractall('./Datasets/'+folder+'/'+file_name)\n",
    "\n",
    "            \n",
    "        \n",
    "        "
   ]
  },
  {
   "cell_type": "code",
   "execution_count": null,
   "id": "10faf85e-4f6e-492f-8253-d821d8c30a41",
   "metadata": {},
   "outputs": [],
   "source": []
  }
 ],
 "metadata": {
  "kernelspec": {
   "display_name": "Python 3",
   "language": "python",
   "name": "python3"
  },
  "language_info": {
   "codemirror_mode": {
    "name": "ipython",
    "version": 3
   },
   "file_extension": ".py",
   "mimetype": "text/x-python",
   "name": "python",
   "nbconvert_exporter": "python",
   "pygments_lexer": "ipython3",
   "version": "3.9.15"
  }
 },
 "nbformat": 4,
 "nbformat_minor": 5
}
