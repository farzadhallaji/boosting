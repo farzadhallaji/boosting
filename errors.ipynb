{
 "cells": [
  {
   "cell_type": "code",
   "execution_count": null,
   "id": "2deca470-e4ff-4c44-873e-dc05be5219af",
   "metadata": {},
   "outputs": [],
   "source": [
    "for folder in os.listdir('./Datasets/'):\n",
    "    print(folder)\n",
    "    for dataset in os.listdir('./Datasets/'+folder):\n",
    "        print(dataset)\n",
    "        for classifier in classifiers:\n",
    "            print(classifier)\n",
    "            if not os.path.exists('./Results/'+folder+'/'+dataset+'/'+classifier+'/y_pred.npy'):\n",
    "                try:\n",
    "                    res_to_files(folder, dataset, classifier, clasify('./Datasets/'+folder+'/', dateset, classifier))\n",
    "                    print('\\t\\tDone.')\n",
    "                except Exception as e:\n",
    "                    error_df = pd.read_pickle('errors.pkl')\n",
    "                    error_df = pd.concat([pd.DataFrame([[folder,dataset,classifier,str(e)]], columns=error_df.columns), error_df], ignore_index=True)                \n",
    "                    error_df.to_pickle('errors.pkl')\n"
   ]
  }
 ],
 "metadata": {
  "kernelspec": {
   "display_name": "Python 3",
   "language": "python",
   "name": "python3"
  },
  "language_info": {
   "codemirror_mode": {
    "name": "ipython",
    "version": 3
   },
   "file_extension": ".py",
   "mimetype": "text/x-python",
   "name": "python",
   "nbconvert_exporter": "python",
   "pygments_lexer": "ipython3",
   "version": "3.9.15"
  }
 },
 "nbformat": 4,
 "nbformat_minor": 5
}
