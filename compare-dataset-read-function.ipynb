{
 "cells": [
  {
   "cell_type": "code",
   "execution_count": 1,
   "id": "a8bf7444-33a9-4cf2-9d19-7f4f0ff40c2b",
   "metadata": {},
   "outputs": [],
   "source": [
    "from utils import *\n",
    "import os\n",
    "import pandas as pd\n",
    "import glob"
   ]
  },
  {
   "cell_type": "code",
   "execution_count": 2,
   "id": "9fa9fa50-ed85-468a-af83-aedcd6a7efb0",
   "metadata": {},
   "outputs": [],
   "source": [
    "base_path = 'Datasets/'\n",
    "datasets  = os.listdir(base_path) "
   ]
  },
  {
   "cell_type": "code",
   "execution_count": null,
   "id": "528074a9-993d-4908-8a17-4683a1cc3d94",
   "metadata": {},
   "outputs": [
    {
     "name": "stdout",
     "output_type": "stream",
     "text": [
      "Datasets/led7digit-0-2-4-5-6-7-8-9_vs_1-5-fold/led7digit-0-2-4-5-6-7-8-9_vs_1-5-1tra.dat shape dat: (354, 8), shape xslx: (354, 8) Dataset2/led7digit-0-2-4-5-6-7-8-9_vs_1-5-fold/led7digit-0-2-4-5-6-7-8-9_vs_1-5-1tra.xlsx\n",
      "Datasets/led7digit-0-2-4-5-6-7-8-9_vs_1-5-fold/led7digit-0-2-4-5-6-7-8-9_vs_1-5-1tra.dat shape dat: (354, 8), shape xslx: (354, 8) Dataset2/led7digit-0-2-4-5-6-7-8-9_vs_1-5-fold/led7digit-0-2-4-5-6-7-8-9_vs_1-5-1tra.xlsx\n",
      "Datasets/led7digit-0-2-4-5-6-7-8-9_vs_1-5-fold/led7digit-0-2-4-5-6-7-8-9_vs_1-5-1tra.dat shape dat: (354, 8), shape xslx: (354, 8) Dataset2/led7digit-0-2-4-5-6-7-8-9_vs_1-5-fold/led7digit-0-2-4-5-6-7-8-9_vs_1-5-1tra.xlsx\n",
      "Datasets/led7digit-0-2-4-5-6-7-8-9_vs_1-5-fold/led7digit-0-2-4-5-6-7-8-9_vs_1-5-1tra.dat shape dat: (354, 8), shape xslx: (354, 8) Dataset2/led7digit-0-2-4-5-6-7-8-9_vs_1-5-fold/led7digit-0-2-4-5-6-7-8-9_vs_1-5-1tra.xlsx\n",
      "Datasets/led7digit-0-2-4-5-6-7-8-9_vs_1-5-fold/led7digit-0-2-4-5-6-7-8-9_vs_1-5-1tra.dat shape dat: (354, 8), shape xslx: (354, 8) Dataset2/led7digit-0-2-4-5-6-7-8-9_vs_1-5-fold/led7digit-0-2-4-5-6-7-8-9_vs_1-5-1tra.xlsx\n",
      "Datasets/led7digit-0-2-4-5-6-7-8-9_vs_1-5-fold/led7digit-0-2-4-5-6-7-8-9_vs_1-5-1tra.dat shape dat: (354, 8), shape xslx: (354, 8) Dataset2/led7digit-0-2-4-5-6-7-8-9_vs_1-5-fold/led7digit-0-2-4-5-6-7-8-9_vs_1-5-1tra.xlsx\n",
      "Datasets/led7digit-0-2-4-5-6-7-8-9_vs_1-5-fold/led7digit-0-2-4-5-6-7-8-9_vs_1-5-1tra.dat shape dat: (354, 8), shape xslx: (354, 8) Dataset2/led7digit-0-2-4-5-6-7-8-9_vs_1-5-fold/led7digit-0-2-4-5-6-7-8-9_vs_1-5-1tra.xlsx\n",
      "Datasets/led7digit-0-2-4-5-6-7-8-9_vs_1-5-fold/led7digit-0-2-4-5-6-7-8-9_vs_1-5-1tra.dat shape dat: (354, 8), shape xslx: (354, 8) Dataset2/led7digit-0-2-4-5-6-7-8-9_vs_1-5-fold/led7digit-0-2-4-5-6-7-8-9_vs_1-5-1tra.xlsx\n",
      "Datasets/led7digit-0-2-4-5-6-7-8-9_vs_1-5-fold/led7digit-0-2-4-5-6-7-8-9_vs_1-5-1tra.dat shape dat: (354, 8), shape xslx: (354, 8) Dataset2/led7digit-0-2-4-5-6-7-8-9_vs_1-5-fold/led7digit-0-2-4-5-6-7-8-9_vs_1-5-1tra.xlsx\n",
      "Datasets/led7digit-0-2-4-5-6-7-8-9_vs_1-5-fold/led7digit-0-2-4-5-6-7-8-9_vs_1-5-1tra.dat shape dat: (354, 8), shape xslx: (354, 8) Dataset2/led7digit-0-2-4-5-6-7-8-9_vs_1-5-fold/led7digit-0-2-4-5-6-7-8-9_vs_1-5-1tra.xlsx\n",
      "Datasets/ecoli-0-6-7_vs_3-5-5-fold/ecoli-0-6-7_vs_3-5-5-1tra.dat shape dat: (177, 8), shape xslx: (177, 8) Dataset2/ecoli-0-6-7_vs_3-5-5-fold/ecoli-0-6-7_vs_3-5-5-1tra.xlsx\n",
      "Datasets/ecoli-0-6-7_vs_3-5-5-fold/ecoli-0-6-7_vs_3-5-5-1tra.dat shape dat: (177, 8), shape xslx: (177, 8) Dataset2/ecoli-0-6-7_vs_3-5-5-fold/ecoli-0-6-7_vs_3-5-5-1tra.xlsx\n",
      "Datasets/ecoli-0-6-7_vs_3-5-5-fold/ecoli-0-6-7_vs_3-5-5-1tra.dat shape dat: (177, 8), shape xslx: (177, 8) Dataset2/ecoli-0-6-7_vs_3-5-5-fold/ecoli-0-6-7_vs_3-5-5-1tra.xlsx\n",
      "Datasets/ecoli-0-6-7_vs_3-5-5-fold/ecoli-0-6-7_vs_3-5-5-1tra.dat shape dat: (177, 8), shape xslx: (177, 8) Dataset2/ecoli-0-6-7_vs_3-5-5-fold/ecoli-0-6-7_vs_3-5-5-1tra.xlsx\n",
      "Datasets/ecoli-0-6-7_vs_3-5-5-fold/ecoli-0-6-7_vs_3-5-5-1tra.dat shape dat: (177, 8), shape xslx: (177, 8) Dataset2/ecoli-0-6-7_vs_3-5-5-fold/ecoli-0-6-7_vs_3-5-5-1tra.xlsx\n",
      "Datasets/ecoli-0-6-7_vs_3-5-5-fold/ecoli-0-6-7_vs_3-5-5-1tra.dat shape dat: (177, 8), shape xslx: (177, 8) Dataset2/ecoli-0-6-7_vs_3-5-5-fold/ecoli-0-6-7_vs_3-5-5-1tra.xlsx\n",
      "Datasets/ecoli-0-6-7_vs_3-5-5-fold/ecoli-0-6-7_vs_3-5-5-1tra.dat shape dat: (177, 8), shape xslx: (177, 8) Dataset2/ecoli-0-6-7_vs_3-5-5-fold/ecoli-0-6-7_vs_3-5-5-1tra.xlsx\n",
      "Datasets/ecoli-0-6-7_vs_3-5-5-fold/ecoli-0-6-7_vs_3-5-5-1tra.dat shape dat: (177, 8), shape xslx: (177, 8) Dataset2/ecoli-0-6-7_vs_3-5-5-fold/ecoli-0-6-7_vs_3-5-5-1tra.xlsx\n",
      "Datasets/ecoli-0-6-7_vs_3-5-5-fold/ecoli-0-6-7_vs_3-5-5-1tra.dat shape dat: (177, 8), shape xslx: (177, 8) Dataset2/ecoli-0-6-7_vs_3-5-5-fold/ecoli-0-6-7_vs_3-5-5-1tra.xlsx\n",
      "Datasets/ecoli-0-6-7_vs_3-5-5-fold/ecoli-0-6-7_vs_3-5-5-1tra.dat shape dat: (177, 8), shape xslx: (177, 8) Dataset2/ecoli-0-6-7_vs_3-5-5-fold/ecoli-0-6-7_vs_3-5-5-1tra.xlsx\n",
      "Datasets/glass-0-4_vs_5-5-fold/glass-0-4_vs_5-5-2tst.dat shape dat: (19, 10), shape xslx: (19, 10) Dataset2/glass-0-4_vs_5-5-fold/glass-0-4_vs_5-5-2tst.xlsx\n",
      "Datasets/glass-0-4_vs_5-5-fold/glass-0-4_vs_5-5-2tst.dat shape dat: (19, 10), shape xslx: (19, 10) Dataset2/glass-0-4_vs_5-5-fold/glass-0-4_vs_5-5-2tst.xlsx\n",
      "Datasets/glass-0-4_vs_5-5-fold/glass-0-4_vs_5-5-2tst.dat shape dat: (19, 10), shape xslx: (19, 10) Dataset2/glass-0-4_vs_5-5-fold/glass-0-4_vs_5-5-2tst.xlsx\n",
      "Datasets/glass-0-4_vs_5-5-fold/glass-0-4_vs_5-5-2tst.dat shape dat: (19, 10), shape xslx: (19, 10) Dataset2/glass-0-4_vs_5-5-fold/glass-0-4_vs_5-5-2tst.xlsx\n",
      "Datasets/glass-0-4_vs_5-5-fold/glass-0-4_vs_5-5-2tst.dat shape dat: (19, 10), shape xslx: (19, 10) Dataset2/glass-0-4_vs_5-5-fold/glass-0-4_vs_5-5-2tst.xlsx\n",
      "Datasets/glass-0-4_vs_5-5-fold/glass-0-4_vs_5-5-2tst.dat shape dat: (19, 10), shape xslx: (19, 10) Dataset2/glass-0-4_vs_5-5-fold/glass-0-4_vs_5-5-2tst.xlsx\n",
      "Datasets/glass-0-4_vs_5-5-fold/glass-0-4_vs_5-5-2tst.dat shape dat: (19, 10), shape xslx: (19, 10) Dataset2/glass-0-4_vs_5-5-fold/glass-0-4_vs_5-5-2tst.xlsx\n",
      "Datasets/glass-0-4_vs_5-5-fold/glass-0-4_vs_5-5-2tst.dat shape dat: (19, 10), shape xslx: (19, 10) Dataset2/glass-0-4_vs_5-5-fold/glass-0-4_vs_5-5-2tst.xlsx\n",
      "Datasets/glass-0-4_vs_5-5-fold/glass-0-4_vs_5-5-2tst.dat shape dat: (19, 10), shape xslx: (19, 10) Dataset2/glass-0-4_vs_5-5-fold/glass-0-4_vs_5-5-2tst.xlsx\n",
      "Datasets/glass-0-4_vs_5-5-fold/glass-0-4_vs_5-5-2tst.dat shape dat: (19, 10), shape xslx: (19, 10) Dataset2/glass-0-4_vs_5-5-fold/glass-0-4_vs_5-5-2tst.xlsx\n",
      "Datasets/ecoli-0-2-6-7_vs_3-5-5-fold/ecoli-0-2-6-7_vs_3-5-5-1tra.dat shape dat: (179, 8), shape xslx: (179, 8) Dataset2/ecoli-0-2-6-7_vs_3-5-5-fold/ecoli-0-2-6-7_vs_3-5-5-1tra.xlsx\n",
      "Datasets/ecoli-0-2-6-7_vs_3-5-5-fold/ecoli-0-2-6-7_vs_3-5-5-1tra.dat shape dat: (179, 8), shape xslx: (179, 8) Dataset2/ecoli-0-2-6-7_vs_3-5-5-fold/ecoli-0-2-6-7_vs_3-5-5-1tra.xlsx\n",
      "Datasets/ecoli-0-2-6-7_vs_3-5-5-fold/ecoli-0-2-6-7_vs_3-5-5-1tra.dat shape dat: (179, 8), shape xslx: (179, 8) Dataset2/ecoli-0-2-6-7_vs_3-5-5-fold/ecoli-0-2-6-7_vs_3-5-5-1tra.xlsx\n",
      "Datasets/ecoli-0-2-6-7_vs_3-5-5-fold/ecoli-0-2-6-7_vs_3-5-5-1tra.dat shape dat: (179, 8), shape xslx: (179, 8) Dataset2/ecoli-0-2-6-7_vs_3-5-5-fold/ecoli-0-2-6-7_vs_3-5-5-1tra.xlsx\n",
      "Datasets/ecoli-0-2-6-7_vs_3-5-5-fold/ecoli-0-2-6-7_vs_3-5-5-1tra.dat shape dat: (179, 8), shape xslx: (179, 8) Dataset2/ecoli-0-2-6-7_vs_3-5-5-fold/ecoli-0-2-6-7_vs_3-5-5-1tra.xlsx\n",
      "Datasets/ecoli-0-2-6-7_vs_3-5-5-fold/ecoli-0-2-6-7_vs_3-5-5-1tra.dat shape dat: (179, 8), shape xslx: (179, 8) Dataset2/ecoli-0-2-6-7_vs_3-5-5-fold/ecoli-0-2-6-7_vs_3-5-5-1tra.xlsx\n",
      "Datasets/ecoli-0-2-6-7_vs_3-5-5-fold/ecoli-0-2-6-7_vs_3-5-5-1tra.dat shape dat: (179, 8), shape xslx: (179, 8) Dataset2/ecoli-0-2-6-7_vs_3-5-5-fold/ecoli-0-2-6-7_vs_3-5-5-1tra.xlsx\n",
      "Datasets/ecoli-0-2-6-7_vs_3-5-5-fold/ecoli-0-2-6-7_vs_3-5-5-1tra.dat shape dat: (179, 8), shape xslx: (179, 8) Dataset2/ecoli-0-2-6-7_vs_3-5-5-fold/ecoli-0-2-6-7_vs_3-5-5-1tra.xlsx\n",
      "Datasets/ecoli-0-2-6-7_vs_3-5-5-fold/ecoli-0-2-6-7_vs_3-5-5-1tra.dat shape dat: (179, 8), shape xslx: (179, 8) Dataset2/ecoli-0-2-6-7_vs_3-5-5-fold/ecoli-0-2-6-7_vs_3-5-5-1tra.xlsx\n",
      "Datasets/ecoli-0-2-6-7_vs_3-5-5-fold/ecoli-0-2-6-7_vs_3-5-5-1tra.dat shape dat: (179, 8), shape xslx: (179, 8) Dataset2/ecoli-0-2-6-7_vs_3-5-5-fold/ecoli-0-2-6-7_vs_3-5-5-1tra.xlsx\n",
      "Datasets/yeast-0-5-6-7-9_vs_4-5-fold/yeast-0-5-6-7-9_vs_4-5-2tst.dat shape dat: (106, 9), shape xslx: (106, 9) Dataset2/yeast-0-5-6-7-9_vs_4-5-fold/yeast-0-5-6-7-9_vs_4-5-2tst.xlsx\n",
      "Datasets/yeast-0-5-6-7-9_vs_4-5-fold/yeast-0-5-6-7-9_vs_4-5-2tst.dat shape dat: (106, 9), shape xslx: (106, 9) Dataset2/yeast-0-5-6-7-9_vs_4-5-fold/yeast-0-5-6-7-9_vs_4-5-2tst.xlsx\n",
      "Datasets/yeast-0-5-6-7-9_vs_4-5-fold/yeast-0-5-6-7-9_vs_4-5-2tst.dat shape dat: (106, 9), shape xslx: (106, 9) Dataset2/yeast-0-5-6-7-9_vs_4-5-fold/yeast-0-5-6-7-9_vs_4-5-2tst.xlsx\n",
      "Datasets/yeast-0-5-6-7-9_vs_4-5-fold/yeast-0-5-6-7-9_vs_4-5-2tst.dat shape dat: (106, 9), shape xslx: (106, 9) Dataset2/yeast-0-5-6-7-9_vs_4-5-fold/yeast-0-5-6-7-9_vs_4-5-2tst.xlsx\n",
      "Datasets/yeast-0-5-6-7-9_vs_4-5-fold/yeast-0-5-6-7-9_vs_4-5-2tst.dat shape dat: (106, 9), shape xslx: (106, 9) Dataset2/yeast-0-5-6-7-9_vs_4-5-fold/yeast-0-5-6-7-9_vs_4-5-2tst.xlsx\n",
      "Datasets/yeast-0-5-6-7-9_vs_4-5-fold/yeast-0-5-6-7-9_vs_4-5-2tst.dat shape dat: (106, 9), shape xslx: (106, 9) Dataset2/yeast-0-5-6-7-9_vs_4-5-fold/yeast-0-5-6-7-9_vs_4-5-2tst.xlsx\n",
      "Datasets/yeast-0-5-6-7-9_vs_4-5-fold/yeast-0-5-6-7-9_vs_4-5-2tst.dat shape dat: (106, 9), shape xslx: (106, 9) Dataset2/yeast-0-5-6-7-9_vs_4-5-fold/yeast-0-5-6-7-9_vs_4-5-2tst.xlsx\n",
      "Datasets/yeast-0-5-6-7-9_vs_4-5-fold/yeast-0-5-6-7-9_vs_4-5-2tst.dat shape dat: (106, 9), shape xslx: (106, 9) Dataset2/yeast-0-5-6-7-9_vs_4-5-fold/yeast-0-5-6-7-9_vs_4-5-2tst.xlsx\n",
      "Datasets/yeast-0-5-6-7-9_vs_4-5-fold/yeast-0-5-6-7-9_vs_4-5-2tst.dat shape dat: (106, 9), shape xslx: (106, 9) Dataset2/yeast-0-5-6-7-9_vs_4-5-fold/yeast-0-5-6-7-9_vs_4-5-2tst.xlsx\n",
      "Datasets/yeast-0-5-6-7-9_vs_4-5-fold/yeast-0-5-6-7-9_vs_4-5-2tst.dat shape dat: (106, 9), shape xslx: (106, 9) Dataset2/yeast-0-5-6-7-9_vs_4-5-fold/yeast-0-5-6-7-9_vs_4-5-2tst.xlsx\n",
      "Datasets/ecoli-0-3-4-6_vs_5-5-fold/ecoli-0-3-4-6_vs_5-5-1tra.dat shape dat: (164, 8), shape xslx: (164, 8) Dataset2/ecoli-0-3-4-6_vs_5-5-fold/ecoli-0-3-4-6_vs_5-5-1tra.xlsx\n",
      "Datasets/ecoli-0-3-4-6_vs_5-5-fold/ecoli-0-3-4-6_vs_5-5-1tra.dat shape dat: (164, 8), shape xslx: (164, 8) Dataset2/ecoli-0-3-4-6_vs_5-5-fold/ecoli-0-3-4-6_vs_5-5-1tra.xlsx\n",
      "Datasets/ecoli-0-3-4-6_vs_5-5-fold/ecoli-0-3-4-6_vs_5-5-1tra.dat shape dat: (164, 8), shape xslx: (164, 8) Dataset2/ecoli-0-3-4-6_vs_5-5-fold/ecoli-0-3-4-6_vs_5-5-1tra.xlsx\n",
      "Datasets/ecoli-0-3-4-6_vs_5-5-fold/ecoli-0-3-4-6_vs_5-5-1tra.dat shape dat: (164, 8), shape xslx: (164, 8) Dataset2/ecoli-0-3-4-6_vs_5-5-fold/ecoli-0-3-4-6_vs_5-5-1tra.xlsx\n",
      "Datasets/ecoli-0-3-4-6_vs_5-5-fold/ecoli-0-3-4-6_vs_5-5-1tra.dat shape dat: (164, 8), shape xslx: (164, 8) Dataset2/ecoli-0-3-4-6_vs_5-5-fold/ecoli-0-3-4-6_vs_5-5-1tra.xlsx\n",
      "Datasets/ecoli-0-3-4-6_vs_5-5-fold/ecoli-0-3-4-6_vs_5-5-1tra.dat shape dat: (164, 8), shape xslx: (164, 8) Dataset2/ecoli-0-3-4-6_vs_5-5-fold/ecoli-0-3-4-6_vs_5-5-1tra.xlsx\n",
      "Datasets/ecoli-0-3-4-6_vs_5-5-fold/ecoli-0-3-4-6_vs_5-5-1tra.dat shape dat: (164, 8), shape xslx: (164, 8) Dataset2/ecoli-0-3-4-6_vs_5-5-fold/ecoli-0-3-4-6_vs_5-5-1tra.xlsx\n",
      "Datasets/ecoli-0-3-4-6_vs_5-5-fold/ecoli-0-3-4-6_vs_5-5-1tra.dat shape dat: (164, 8), shape xslx: (164, 8) Dataset2/ecoli-0-3-4-6_vs_5-5-fold/ecoli-0-3-4-6_vs_5-5-1tra.xlsx\n",
      "Datasets/ecoli-0-3-4-6_vs_5-5-fold/ecoli-0-3-4-6_vs_5-5-1tra.dat shape dat: (164, 8), shape xslx: (164, 8) Dataset2/ecoli-0-3-4-6_vs_5-5-fold/ecoli-0-3-4-6_vs_5-5-1tra.xlsx\n",
      "Datasets/ecoli-0-3-4-6_vs_5-5-fold/ecoli-0-3-4-6_vs_5-5-1tra.dat shape dat: (164, 8), shape xslx: (164, 8) Dataset2/ecoli-0-3-4-6_vs_5-5-fold/ecoli-0-3-4-6_vs_5-5-1tra.xlsx\n",
      "Datasets/yeast5-5-fold/yeast5-5-4tst.dat shape dat: (297, 9), shape xslx: (1187, 9) Dataset2/yeast5-5-fold/yeast5-5-4tst.xlsx\n",
      "Datasets/yeast5-5-fold/yeast5-5-4tst.dat shape dat: (297, 9), shape xslx: (1187, 9) Dataset2/yeast5-5-fold/yeast5-5-4tst.xlsx\n",
      "Datasets/yeast5-5-fold/yeast5-5-4tst.dat shape dat: (297, 9), shape xslx: (1187, 9) Dataset2/yeast5-5-fold/yeast5-5-4tst.xlsx\n",
      "Datasets/yeast5-5-fold/yeast5-5-4tst.dat shape dat: (297, 9), shape xslx: (1187, 9) Dataset2/yeast5-5-fold/yeast5-5-4tst.xlsx\n",
      "Datasets/yeast5-5-fold/yeast5-5-4tst.dat shape dat: (297, 9), shape xslx: (1187, 9) Dataset2/yeast5-5-fold/yeast5-5-4tst.xlsx\n"
     ]
    }
   ],
   "source": [
    "for dataset in datasets:       \n",
    "    datFiles = sorted(glob.glob('Datasets/'+dataset+'/*.dat'))\n",
    "    xlsxFiles = sorted(glob.glob('Dataset2/'+dataset+'/*.xlsx'))\n",
    "\n",
    "    \n",
    "    for datFile in datFiles:\n",
    "        # Dataset2/yeast-1_vs_7-5-fold/yeast-1_vs_7-5-1tra.xlsx\n",
    "        # print('Dataset2/'+datFile.split('/')[1]+'/'+datFile.split('/')[2].split('.')[0]+'.xlsx')\n",
    "        if 'Dataset2/'+datFile.split('/')[1]+'/'+datFile.split('/')[2].split('.')[0]+'.xlsx' in xlsxFiles:\n",
    "            \n",
    "            for datFile, xlsxFile in zip(datFiles, xlsxFiles):\n",
    "\n",
    "                df_dat = read_dot_dat_file(datFile)\n",
    "                df_xlsx = pd.read_excel(xlsxFile)\n",
    "                if df_dat.shape == df_xlsx.shape:\n",
    "                    df_dat.columns = df_xlsx.columns\n",
    "                if not df_dat.equals(df_xlsx):\n",
    "                    print(datFile, f'shape dat: {df_dat.shape}, shape xslx: {df_xlsx.shape}', xlsxFile)\n",
    "                    break\n",
    "\n",
    "        else:\n",
    "            print('===> there is no xlsx file for', datFile)\n",
    "#     for datFile, xlsxFile in zip(datFiles, xlsxFiles):\n",
    "\n",
    "#         df_dat = read_dot_dat_file(datFile)\n",
    "#         df_xlsx = pd.read_excel(xlsxFile)\n",
    "#         df_dat.columns = df_xlsx.columns\n",
    "#         if not df_dat.equals(df_xlsx):\n",
    "#             print(datFile, f'shape dat: {df_dat.shape}, shape xslx: {df_xlsx.shape}')\n",
    "#             break\n"
   ]
  },
  {
   "cell_type": "code",
   "execution_count": 4,
   "id": "7f598c6c-17de-4d87-9d77-6326aa25b217",
   "metadata": {},
   "outputs": [
    {
     "ename": "FileNotFoundError",
     "evalue": "[Errno 2] No such file or directory: './Dataset2/led7digit-0-2-4-5-6-7-8-9_vs_1-5-fold/led7digit-0-2-4-5-6-7-8-9_vs_1-5-1tra.xslx'",
     "output_type": "error",
     "traceback": [
      "\u001b[0;31m---------------------------------------------------------------------------\u001b[0m",
      "\u001b[0;31mFileNotFoundError\u001b[0m                         Traceback (most recent call last)",
      "Cell \u001b[0;32mIn[4], line 5\u001b[0m\n\u001b[1;32m      3\u001b[0m ndataset \u001b[38;5;241m=\u001b[39m \u001b[38;5;124m'\u001b[39m\u001b[38;5;124mled7digit-0-2-4-5-6-7-8-9_vs_1-5-fold/led7digit-0-2-4-5-6-7-8-9_vs_1-5-1tra\u001b[39m\u001b[38;5;124m'\u001b[39m\n\u001b[1;32m      4\u001b[0m dat \u001b[38;5;241m=\u001b[39m read_dot_dat_file(base_dat\u001b[38;5;241m+\u001b[39mndataset\u001b[38;5;241m+\u001b[39m\u001b[38;5;124m'\u001b[39m\u001b[38;5;124m.dat\u001b[39m\u001b[38;5;124m'\u001b[39m)\n\u001b[0;32m----> 5\u001b[0m xlsx \u001b[38;5;241m=\u001b[39m \u001b[43mpd\u001b[49m\u001b[38;5;241;43m.\u001b[39;49m\u001b[43mread_excel\u001b[49m\u001b[43m(\u001b[49m\u001b[43mbase_xlsx\u001b[49m\u001b[38;5;241;43m+\u001b[39;49m\u001b[43mndataset\u001b[49m\u001b[38;5;241;43m+\u001b[39;49m\u001b[38;5;124;43m'\u001b[39;49m\u001b[38;5;124;43m.xslx\u001b[39;49m\u001b[38;5;124;43m'\u001b[39;49m\u001b[43m)\u001b[49m\n",
      "File \u001b[0;32m~/.local/lib/python3.9/site-packages/pandas/util/_decorators.py:311\u001b[0m, in \u001b[0;36mdeprecate_nonkeyword_arguments.<locals>.decorate.<locals>.wrapper\u001b[0;34m(*args, **kwargs)\u001b[0m\n\u001b[1;32m    305\u001b[0m \u001b[38;5;28;01mif\u001b[39;00m \u001b[38;5;28mlen\u001b[39m(args) \u001b[38;5;241m>\u001b[39m num_allow_args:\n\u001b[1;32m    306\u001b[0m     warnings\u001b[38;5;241m.\u001b[39mwarn(\n\u001b[1;32m    307\u001b[0m         msg\u001b[38;5;241m.\u001b[39mformat(arguments\u001b[38;5;241m=\u001b[39marguments),\n\u001b[1;32m    308\u001b[0m         \u001b[38;5;167;01mFutureWarning\u001b[39;00m,\n\u001b[1;32m    309\u001b[0m         stacklevel\u001b[38;5;241m=\u001b[39mstacklevel,\n\u001b[1;32m    310\u001b[0m     )\n\u001b[0;32m--> 311\u001b[0m \u001b[38;5;28;01mreturn\u001b[39;00m \u001b[43mfunc\u001b[49m\u001b[43m(\u001b[49m\u001b[38;5;241;43m*\u001b[39;49m\u001b[43margs\u001b[49m\u001b[43m,\u001b[49m\u001b[43m \u001b[49m\u001b[38;5;241;43m*\u001b[39;49m\u001b[38;5;241;43m*\u001b[39;49m\u001b[43mkwargs\u001b[49m\u001b[43m)\u001b[49m\n",
      "File \u001b[0;32m~/.local/lib/python3.9/site-packages/pandas/io/excel/_base.py:457\u001b[0m, in \u001b[0;36mread_excel\u001b[0;34m(io, sheet_name, header, names, index_col, usecols, squeeze, dtype, engine, converters, true_values, false_values, skiprows, nrows, na_values, keep_default_na, na_filter, verbose, parse_dates, date_parser, thousands, decimal, comment, skipfooter, convert_float, mangle_dupe_cols, storage_options)\u001b[0m\n\u001b[1;32m    455\u001b[0m \u001b[38;5;28;01mif\u001b[39;00m \u001b[38;5;129;01mnot\u001b[39;00m \u001b[38;5;28misinstance\u001b[39m(io, ExcelFile):\n\u001b[1;32m    456\u001b[0m     should_close \u001b[38;5;241m=\u001b[39m \u001b[38;5;28;01mTrue\u001b[39;00m\n\u001b[0;32m--> 457\u001b[0m     io \u001b[38;5;241m=\u001b[39m \u001b[43mExcelFile\u001b[49m\u001b[43m(\u001b[49m\u001b[43mio\u001b[49m\u001b[43m,\u001b[49m\u001b[43m \u001b[49m\u001b[43mstorage_options\u001b[49m\u001b[38;5;241;43m=\u001b[39;49m\u001b[43mstorage_options\u001b[49m\u001b[43m,\u001b[49m\u001b[43m \u001b[49m\u001b[43mengine\u001b[49m\u001b[38;5;241;43m=\u001b[39;49m\u001b[43mengine\u001b[49m\u001b[43m)\u001b[49m\n\u001b[1;32m    458\u001b[0m \u001b[38;5;28;01melif\u001b[39;00m engine \u001b[38;5;129;01mand\u001b[39;00m engine \u001b[38;5;241m!=\u001b[39m io\u001b[38;5;241m.\u001b[39mengine:\n\u001b[1;32m    459\u001b[0m     \u001b[38;5;28;01mraise\u001b[39;00m \u001b[38;5;167;01mValueError\u001b[39;00m(\n\u001b[1;32m    460\u001b[0m         \u001b[38;5;124m\"\u001b[39m\u001b[38;5;124mEngine should not be specified when passing \u001b[39m\u001b[38;5;124m\"\u001b[39m\n\u001b[1;32m    461\u001b[0m         \u001b[38;5;124m\"\u001b[39m\u001b[38;5;124man ExcelFile - ExcelFile already has the engine set\u001b[39m\u001b[38;5;124m\"\u001b[39m\n\u001b[1;32m    462\u001b[0m     )\n",
      "File \u001b[0;32m~/.local/lib/python3.9/site-packages/pandas/io/excel/_base.py:1376\u001b[0m, in \u001b[0;36mExcelFile.__init__\u001b[0;34m(self, path_or_buffer, engine, storage_options)\u001b[0m\n\u001b[1;32m   1374\u001b[0m     ext \u001b[38;5;241m=\u001b[39m \u001b[38;5;124m\"\u001b[39m\u001b[38;5;124mxls\u001b[39m\u001b[38;5;124m\"\u001b[39m\n\u001b[1;32m   1375\u001b[0m \u001b[38;5;28;01melse\u001b[39;00m:\n\u001b[0;32m-> 1376\u001b[0m     ext \u001b[38;5;241m=\u001b[39m \u001b[43minspect_excel_format\u001b[49m\u001b[43m(\u001b[49m\n\u001b[1;32m   1377\u001b[0m \u001b[43m        \u001b[49m\u001b[43mcontent_or_path\u001b[49m\u001b[38;5;241;43m=\u001b[39;49m\u001b[43mpath_or_buffer\u001b[49m\u001b[43m,\u001b[49m\u001b[43m \u001b[49m\u001b[43mstorage_options\u001b[49m\u001b[38;5;241;43m=\u001b[39;49m\u001b[43mstorage_options\u001b[49m\n\u001b[1;32m   1378\u001b[0m \u001b[43m    \u001b[49m\u001b[43m)\u001b[49m\n\u001b[1;32m   1379\u001b[0m     \u001b[38;5;28;01mif\u001b[39;00m ext \u001b[38;5;129;01mis\u001b[39;00m \u001b[38;5;28;01mNone\u001b[39;00m:\n\u001b[1;32m   1380\u001b[0m         \u001b[38;5;28;01mraise\u001b[39;00m \u001b[38;5;167;01mValueError\u001b[39;00m(\n\u001b[1;32m   1381\u001b[0m             \u001b[38;5;124m\"\u001b[39m\u001b[38;5;124mExcel file format cannot be determined, you must specify \u001b[39m\u001b[38;5;124m\"\u001b[39m\n\u001b[1;32m   1382\u001b[0m             \u001b[38;5;124m\"\u001b[39m\u001b[38;5;124man engine manually.\u001b[39m\u001b[38;5;124m\"\u001b[39m\n\u001b[1;32m   1383\u001b[0m         )\n",
      "File \u001b[0;32m~/.local/lib/python3.9/site-packages/pandas/io/excel/_base.py:1250\u001b[0m, in \u001b[0;36minspect_excel_format\u001b[0;34m(content_or_path, storage_options)\u001b[0m\n\u001b[1;32m   1247\u001b[0m \u001b[38;5;28;01mif\u001b[39;00m \u001b[38;5;28misinstance\u001b[39m(content_or_path, \u001b[38;5;28mbytes\u001b[39m):\n\u001b[1;32m   1248\u001b[0m     content_or_path \u001b[38;5;241m=\u001b[39m BytesIO(content_or_path)\n\u001b[0;32m-> 1250\u001b[0m \u001b[38;5;28;01mwith\u001b[39;00m \u001b[43mget_handle\u001b[49m\u001b[43m(\u001b[49m\n\u001b[1;32m   1251\u001b[0m \u001b[43m    \u001b[49m\u001b[43mcontent_or_path\u001b[49m\u001b[43m,\u001b[49m\u001b[43m \u001b[49m\u001b[38;5;124;43m\"\u001b[39;49m\u001b[38;5;124;43mrb\u001b[39;49m\u001b[38;5;124;43m\"\u001b[39;49m\u001b[43m,\u001b[49m\u001b[43m \u001b[49m\u001b[43mstorage_options\u001b[49m\u001b[38;5;241;43m=\u001b[39;49m\u001b[43mstorage_options\u001b[49m\u001b[43m,\u001b[49m\u001b[43m \u001b[49m\u001b[43mis_text\u001b[49m\u001b[38;5;241;43m=\u001b[39;49m\u001b[38;5;28;43;01mFalse\u001b[39;49;00m\n\u001b[1;32m   1252\u001b[0m \u001b[43m\u001b[49m\u001b[43m)\u001b[49m \u001b[38;5;28;01mas\u001b[39;00m handle:\n\u001b[1;32m   1253\u001b[0m     stream \u001b[38;5;241m=\u001b[39m handle\u001b[38;5;241m.\u001b[39mhandle\n\u001b[1;32m   1254\u001b[0m     stream\u001b[38;5;241m.\u001b[39mseek(\u001b[38;5;241m0\u001b[39m)\n",
      "File \u001b[0;32m~/.local/lib/python3.9/site-packages/pandas/io/common.py:798\u001b[0m, in \u001b[0;36mget_handle\u001b[0;34m(path_or_buf, mode, encoding, compression, memory_map, is_text, errors, storage_options)\u001b[0m\n\u001b[1;32m    789\u001b[0m         handle \u001b[38;5;241m=\u001b[39m \u001b[38;5;28mopen\u001b[39m(\n\u001b[1;32m    790\u001b[0m             handle,\n\u001b[1;32m    791\u001b[0m             ioargs\u001b[38;5;241m.\u001b[39mmode,\n\u001b[0;32m   (...)\u001b[0m\n\u001b[1;32m    794\u001b[0m             newline\u001b[38;5;241m=\u001b[39m\u001b[38;5;124m\"\u001b[39m\u001b[38;5;124m\"\u001b[39m,\n\u001b[1;32m    795\u001b[0m         )\n\u001b[1;32m    796\u001b[0m     \u001b[38;5;28;01melse\u001b[39;00m:\n\u001b[1;32m    797\u001b[0m         \u001b[38;5;66;03m# Binary mode\u001b[39;00m\n\u001b[0;32m--> 798\u001b[0m         handle \u001b[38;5;241m=\u001b[39m \u001b[38;5;28;43mopen\u001b[39;49m\u001b[43m(\u001b[49m\u001b[43mhandle\u001b[49m\u001b[43m,\u001b[49m\u001b[43m \u001b[49m\u001b[43mioargs\u001b[49m\u001b[38;5;241;43m.\u001b[39;49m\u001b[43mmode\u001b[49m\u001b[43m)\u001b[49m\n\u001b[1;32m    799\u001b[0m     handles\u001b[38;5;241m.\u001b[39mappend(handle)\n\u001b[1;32m    801\u001b[0m \u001b[38;5;66;03m# Convert BytesIO or file objects passed with an encoding\u001b[39;00m\n",
      "\u001b[0;31mFileNotFoundError\u001b[0m: [Errno 2] No such file or directory: './Dataset2/led7digit-0-2-4-5-6-7-8-9_vs_1-5-fold/led7digit-0-2-4-5-6-7-8-9_vs_1-5-1tra.xslx'"
     ]
    }
   ],
   "source": [
    "base_dat = './Datasets/'\n",
    "base_xlsx = './Dataset2/'\n",
    "ndataset = 'led7digit-0-2-4-5-6-7-8-9_vs_1-5-fold/led7digit-0-2-4-5-6-7-8-9_vs_1-5-1tra'\n",
    "dat = read_dot_dat_file(base_dat+ndataset+'.dat')\n",
    "xlsx = pd.read_excel(base_xlsx+ndataset+'.xslx')"
   ]
  },
  {
   "cell_type": "code",
   "execution_count": null,
   "id": "b739487c-3967-41db-90a1-29d33ac4dcf3",
   "metadata": {},
   "outputs": [],
   "source": []
  },
  {
   "cell_type": "code",
   "execution_count": null,
   "id": "3ea9830a-31a0-4e4e-ba81-9ab4d2f598b5",
   "metadata": {},
   "outputs": [],
   "source": []
  },
  {
   "cell_type": "code",
   "execution_count": null,
   "id": "ef1d7f74-c657-4012-90ab-9b9026871b8a",
   "metadata": {},
   "outputs": [],
   "source": []
  },
  {
   "cell_type": "code",
   "execution_count": null,
   "id": "e356434d-ed7e-4a08-adfd-4a5d00ec4446",
   "metadata": {},
   "outputs": [],
   "source": []
  },
  {
   "cell_type": "code",
   "execution_count": null,
   "id": "3489714e-0297-4054-b03c-48b57af2d2cd",
   "metadata": {},
   "outputs": [],
   "source": []
  },
  {
   "cell_type": "code",
   "execution_count": 5,
   "id": "1ae432af-8c20-4f93-a258-abcc4a830a2c",
   "metadata": {},
   "outputs": [],
   "source": [
    "# from_dat.columns = from_excel.columns\n",
    "# print(from_excel.shape, from_dat.shape, from_excel.shape == from_dat.shape)\n",
    "# assert from_excel.shape == from_dat.shape\n",
    "# for i in from_dat.index:\n",
    "#     print(i)\n",
    "#     # if (from_dat.iloc[i] != from_excel.iloc[i]).any():\n",
    "#         # print(i, from_dat.iloc[i], from_excel.iloc[i])\n"
   ]
  },
  {
   "cell_type": "code",
   "execution_count": null,
   "id": "5cef084f-9fac-41b8-9694-e0263642dd95",
   "metadata": {},
   "outputs": [],
   "source": []
  },
  {
   "cell_type": "code",
   "execution_count": 6,
   "id": "f47660b1-8e99-42e0-aac7-5ea20a74c43b",
   "metadata": {},
   "outputs": [],
   "source": [
    "# datFiles = sorted(glob.glob('ecoli4-5-/*.dat'))\n",
    "# xlsxFiles = sorted(glob.glob('ecoli4-5-/*.xlsx'))\n",
    "# for datFile, xlsxFile in zip(datFiles, xlsxFiles):\n",
    "\n",
    "#     df_dat = read_dot_dat_file(datFile)\n",
    "#     df_xlsx = pd.read_excel(xlsxFile)\n",
    "#     df_dat.columns = df_xlsx.columns\n",
    "#     if not df_dat.equals(df_xlsx):\n",
    "#         print(xlsxFile.split('/')[1].split('.')[0], f'shape dat: {df_dat.shape}, shape xslx: {df_xlsx.shape}')\n",
    "    \n",
    "# #     x_dat= df_dat.iloc[:, :-1]\n",
    "# #     y_dat = df_dat.iloc[:, -1]\n",
    "# #     x_xlsx = df_xlsx.iloc[:, 0:-1]\n",
    "# #     y_xlsx = df_xlsx.iloc[:, -1]\n",
    "    \n",
    "    \n",
    "#     # print(datFile, 'x_dat , x_xlsx : ', x_dat.equals(x_xlsx))\n",
    "#     # break\n",
    "    "
   ]
  }
 ],
 "metadata": {
  "kernelspec": {
   "display_name": "Python 3",
   "language": "python",
   "name": "python3"
  },
  "language_info": {
   "codemirror_mode": {
    "name": "ipython",
    "version": 3
   },
   "file_extension": ".py",
   "mimetype": "text/x-python",
   "name": "python",
   "nbconvert_exporter": "python",
   "pygments_lexer": "ipython3",
   "version": "3.9.15"
  }
 },
 "nbformat": 4,
 "nbformat_minor": 5
}
