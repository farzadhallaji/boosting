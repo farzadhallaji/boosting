{
 "cells": [
  {
   "cell_type": "code",
   "execution_count": 1,
   "id": "a8bf7444-33a9-4cf2-9d19-7f4f0ff40c2b",
   "metadata": {},
   "outputs": [],
   "source": [
    "from utils import *\n",
    "import os\n",
    "import pandas as pd\n",
    "import glob"
   ]
  },
  {
   "cell_type": "code",
   "execution_count": null,
   "id": "9fa9fa50-ed85-468a-af83-aedcd6a7efb0",
   "metadata": {},
   "outputs": [],
   "source": [
    "base_path = 'Datasets/'\n",
    "datasets  = os.listdir(base_path) "
   ]
  },
  {
   "cell_type": "code",
   "execution_count": 25,
   "id": "4323611d-3430-4c31-a0a3-05810c93e22b",
   "metadata": {},
   "outputs": [],
   "source": [
    "def convert_dat_path_to_xslx_path(datFile, base_path_xslx_datasets='Dataset2/'):\n",
    "    return base_path_xslx_datasets+datFile.split('/')[1]+'/'+datFile.split('/')[2].split('.')[0]+'.xlsx'"
   ]
  },
  {
   "cell_type": "code",
   "execution_count": 43,
   "id": "528074a9-993d-4908-8a17-4683a1cc3d94",
   "metadata": {},
   "outputs": [
    {
     "name": "stdout",
     "output_type": "stream",
     "text": [
      "Datasets/ecoli-0-3-4-6_vs_5-5-fold/ecoli-0-3-4-6_vs_5-5-3tra.dat\n",
      "Datasets/yeast5-5-fold/yeast5-5-4tst.dat\n",
      "Datasets/ecoli-0-1_vs_5-5-fold/ecoli-0-1_vs_5-5-4tra.dat\n",
      "Datasets/ecoli-0-1-3-7_vs_2-6-5-fold/ecoli-0-1-3-7_vs_2-6-5-1tra.dat\n",
      "Datasets/ecoli-0-1-3-7_vs_2-6-5-fold/ecoli-0-1-3-7_vs_2-6-5-1tst.dat\n",
      "Datasets/ecoli-0-1-3-7_vs_2-6-5-fold/ecoli-0-1-3-7_vs_2-6-5-2tra.dat\n",
      "Datasets/ecoli-0-1-3-7_vs_2-6-5-fold/ecoli-0-1-3-7_vs_2-6-5-2tst.dat\n",
      "Datasets/ecoli-0-1-3-7_vs_2-6-5-fold/ecoli-0-1-3-7_vs_2-6-5-3tra.dat\n",
      "Datasets/ecoli-0-1-3-7_vs_2-6-5-fold/ecoli-0-1-3-7_vs_2-6-5-3tst.dat\n",
      "Datasets/ecoli-0-1-3-7_vs_2-6-5-fold/ecoli-0-1-3-7_vs_2-6-5-4tst.dat\n",
      "Datasets/ecoli-0-1-3-7_vs_2-6-5-fold/ecoli-0-1-3-7_vs_2-6-5-5tst.dat\n",
      "Datasets/yeast6-5-fold/yeast6-5-5tra.dat\n",
      "Datasets/glass-0-1-4-6_vs_2-5-fold/glass-0-1-4-6_vs_2-5-1tra.dat\n",
      "Datasets/glass-0-1-4-6_vs_2-5-fold/glass-0-1-4-6_vs_2-5-2tra.dat\n",
      "Datasets/glass-0-1-4-6_vs_2-5-fold/glass-0-1-4-6_vs_2-5-3tra.dat\n",
      "Datasets/glass-0-1-4-6_vs_2-5-fold/glass-0-1-4-6_vs_2-5-4tst.dat\n",
      "Datasets/glass-0-1-4-6_vs_2-5-fold/glass-0-1-4-6_vs_2-5-5tra.dat\n",
      "Datasets/abalone9-18-5-fold/abalone9-18-5-1tra.dat\n",
      "Datasets/abalone9-18-5-fold/abalone9-18-5-1tst.dat\n",
      "Datasets/abalone9-18-5-fold/abalone9-18-5-2tra.dat\n",
      "Datasets/abalone9-18-5-fold/abalone9-18-5-2tst.dat\n",
      "Datasets/abalone9-18-5-fold/abalone9-18-5-3tra.dat\n",
      "Datasets/abalone9-18-5-fold/abalone9-18-5-3tst.dat\n",
      "Datasets/abalone9-18-5-fold/abalone9-18-5-4tra.dat\n",
      "Datasets/abalone9-18-5-fold/abalone9-18-5-4tst.dat\n",
      "Datasets/abalone9-18-5-fold/abalone9-18-5-5tra.dat\n",
      "Datasets/abalone9-18-5-fold/abalone9-18-5-5tst.dat\n",
      "Datasets/abalone19-5-fold/abalone19-5-1tra.dat\n",
      "Datasets/abalone19-5-fold/abalone19-5-1tst.dat\n",
      "Datasets/abalone19-5-fold/abalone19-5-2tra.dat\n",
      "Datasets/abalone19-5-fold/abalone19-5-2tst.dat\n",
      "Datasets/abalone19-5-fold/abalone19-5-3tra.dat\n",
      "Datasets/abalone19-5-fold/abalone19-5-3tst.dat\n",
      "Datasets/abalone19-5-fold/abalone19-5-4tra.dat\n",
      "Datasets/abalone19-5-fold/abalone19-5-4tst.dat\n",
      "Datasets/abalone19-5-fold/abalone19-5-5tra.dat\n",
      "Datasets/abalone19-5-fold/abalone19-5-5tst.dat\n",
      "Datasets/ecoli4-5-fold/ecoli4-5-1tst.dat\n",
      "Datasets/ecoli4-5-fold/ecoli4-5-2tst.dat\n",
      "Datasets/ecoli4-5-fold/ecoli4-5-3tst.dat\n",
      "Datasets/ecoli4-5-fold/ecoli4-5-4tst.dat\n",
      "Datasets/ecoli4-5-fold/ecoli4-5-5tst.dat\n",
      "Datasets/glass2-5-fold/glass2-5-2tst.dat\n",
      "Datasets/glass2-5-fold/glass2-5-3tst.dat\n",
      "Datasets/new-thyroid2-5-fold/newthyroid2-5-1tra.dat\n"
     ]
    }
   ],
   "source": [
    "datasets_indexes = []\n",
    "for i, dataset in enumerate(datasets):       \n",
    "    datFiles = sorted(glob.glob('Datasets/'+dataset+'/*.dat'))\n",
    "    xlsxFiles = sorted(glob.glob('Dataset2/'+dataset+'/*.xlsx'))\n",
    "    valid = True\n",
    "    for datFile, xlsxFile in zip(datFiles, xlsxFiles):\n",
    "        if convert_dat_path_to_xslx_path(datFile) in xlsxFiles:\n",
    "            df_dat = read_dot_dat_file(datFile)\n",
    "            df_xlsx = pd.read_excel(xlsxFile)\n",
    "            if df_dat.shape == df_xlsx.shape:\n",
    "                df_dat.columns = df_xlsx.columns\n",
    "                for i in df_dat.index:\n",
    "                    if not (df_dat.iloc[i]==df_xlsx.iloc[i]).all():\n",
    "                        print(datFile)\n",
    "                        break\n",
    "                        \n",
    "            else:\n",
    "                print(datFile)\n",
    "                \n",
    "        else:\n",
    "            valid = False\n",
    "    if valid:\n",
    "        datasets_indexes.append(i)"
   ]
  },
  {
   "cell_type": "code",
   "execution_count": 44,
   "id": "7f598c6c-17de-4d87-9d77-6326aa25b217",
   "metadata": {},
   "outputs": [],
   "source": [
    "sdat = 'Datasets/ecoli-0-3-4-6_vs_5-5-fold/ecoli-0-3-4-6_vs_5-5-3tra.dat'\n",
    "sxls = convert_dat_path_to_xslx_path(sdat)\n",
    "\n",
    "dat = read_dot_dat_file(sdat)\n",
    "xl = pd.read_excel(sxls)"
   ]
  },
  {
   "cell_type": "code",
   "execution_count": 47,
   "id": "b739487c-3967-41db-90a1-29d33ac4dcf3",
   "metadata": {},
   "outputs": [
    {
     "name": "stdout",
     "output_type": "stream",
     "text": [
      "(164, 8) (42, 8)\n"
     ]
    }
   ],
   "source": [
    "if dat.shape == xl.shape:\n",
    "    print(\"yep\")\n",
    "    dat.columns = xl.columns\n",
    "else:\n",
    "    print(dat.shape,xl.shape)"
   ]
  },
  {
   "cell_type": "code",
   "execution_count": 41,
   "id": "3ea9830a-31a0-4e4e-ba81-9ab4d2f598b5",
   "metadata": {},
   "outputs": [],
   "source": [
    "for i in dat.index:\n",
    "    if not (dat.iloc[i]==xl.iloc[i]).all():\n",
    "        print(dat.iloc[i],xl.iloc[i])\n",
    "    "
   ]
  },
  {
   "cell_type": "code",
   "execution_count": null,
   "id": "ef1d7f74-c657-4012-90ab-9b9026871b8a",
   "metadata": {},
   "outputs": [],
   "source": []
  },
  {
   "cell_type": "code",
   "execution_count": null,
   "id": "e356434d-ed7e-4a08-adfd-4a5d00ec4446",
   "metadata": {},
   "outputs": [],
   "source": []
  },
  {
   "cell_type": "code",
   "execution_count": null,
   "id": "3489714e-0297-4054-b03c-48b57af2d2cd",
   "metadata": {},
   "outputs": [],
   "source": []
  },
  {
   "cell_type": "code",
   "execution_count": 5,
   "id": "1ae432af-8c20-4f93-a258-abcc4a830a2c",
   "metadata": {},
   "outputs": [],
   "source": [
    "# from_dat.columns = from_excel.columns\n",
    "# print(from_excel.shape, from_dat.shape, from_excel.shape == from_dat.shape)\n",
    "# assert from_excel.shape == from_dat.shape\n",
    "# for i in from_dat.index:\n",
    "#     print(i)\n",
    "#     # if (from_dat.iloc[i] != from_excel.iloc[i]).any():\n",
    "#         # print(i, from_dat.iloc[i], from_excel.iloc[i])\n"
   ]
  },
  {
   "cell_type": "code",
   "execution_count": null,
   "id": "5cef084f-9fac-41b8-9694-e0263642dd95",
   "metadata": {},
   "outputs": [],
   "source": []
  },
  {
   "cell_type": "code",
   "execution_count": 6,
   "id": "f47660b1-8e99-42e0-aac7-5ea20a74c43b",
   "metadata": {},
   "outputs": [],
   "source": [
    "# datFiles = sorted(glob.glob('ecoli4-5-/*.dat'))\n",
    "# xlsxFiles = sorted(glob.glob('ecoli4-5-/*.xlsx'))\n",
    "# for datFile, xlsxFile in zip(datFiles, xlsxFiles):\n",
    "\n",
    "#     df_dat = read_dot_dat_file(datFile)\n",
    "#     df_xlsx = pd.read_excel(xlsxFile)\n",
    "#     df_dat.columns = df_xlsx.columns\n",
    "#     if not df_dat.equals(df_xlsx):\n",
    "#         print(xlsxFile.split('/')[1].split('.')[0], f'shape dat: {df_dat.shape}, shape xslx: {df_xlsx.shape}')\n",
    "    \n",
    "# #     x_dat= df_dat.iloc[:, :-1]\n",
    "# #     y_dat = df_dat.iloc[:, -1]\n",
    "# #     x_xlsx = df_xlsx.iloc[:, 0:-1]\n",
    "# #     y_xlsx = df_xlsx.iloc[:, -1]\n",
    "    \n",
    "    \n",
    "#     # print(datFile, 'x_dat , x_xlsx : ', x_dat.equals(x_xlsx))\n",
    "#     # break\n",
    "    "
   ]
  }
 ],
 "metadata": {
  "kernelspec": {
   "display_name": "Python 3",
   "language": "python",
   "name": "python3"
  },
  "language_info": {
   "codemirror_mode": {
    "name": "ipython",
    "version": 3
   },
   "file_extension": ".py",
   "mimetype": "text/x-python",
   "name": "python",
   "nbconvert_exporter": "python",
   "pygments_lexer": "ipython3",
   "version": "3.9.15"
  }
 },
 "nbformat": 4,
 "nbformat_minor": 5
}
