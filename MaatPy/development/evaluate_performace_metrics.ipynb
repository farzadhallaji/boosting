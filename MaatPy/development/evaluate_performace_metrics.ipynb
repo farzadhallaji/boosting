{
 "cells": [
  {
   "cell_type": "markdown",
   "metadata": {},
   "source": [
    "# Evaluate classifier performace metrics"
   ]
  },
  {
   "cell_type": "markdown",
   "metadata": {},
   "source": [
    "Single-number evaluation metrics to investigate are accuracy, precision, recall, F1 score, AUC (Area Under the ROC Curve) score, geometric mean and Cohen’s Kappa."
   ]
  },
  {
   "cell_type": "code",
   "execution_count": 1,
   "metadata": {
    "collapsed": false
   },
   "outputs": [],
   "source": [
    "from sklearn.datasets import make_classification\n",
    "from sklearn.model_selection import StratifiedShuffleSplit\n",
    "seed = 0\n",
    "def simulate_simple_dataset(weights):\n",
    "    # simulate balanced binary dataset\n",
    "    X, y = make_classification(n_samples=1000, n_features=20,\n",
    "                                   n_informative=2, n_redundant=2,\n",
    "                                   n_classes=2, weights=weights,\n",
    "                                   random_state=seed\n",
    "                              )\n",
    "    # split dataset into training and test sets\n",
    "    sss = StratifiedShuffleSplit(n_splits=5, test_size=0.3, random_state=seed)\n",
    "    sss.get_n_splits(X, y)\n",
    "    for train_index, test_index in sss.split(X, y):\n",
    "        X_train, X_test = X[train_index], X[test_index]\n",
    "        y_train, y_test = y[train_index], y[test_index]\n",
    "        \n",
    "    return X_train, X_test, y_train, y_test"
   ]
  },
  {
   "cell_type": "code",
   "execution_count": 2,
   "metadata": {
    "collapsed": false
   },
   "outputs": [],
   "source": [
    "from sklearn.pipeline import make_pipeline\n",
    "from sklearn.preprocessing import StandardScaler\n",
    "from sklearn.svm import SVC\n",
    "from sklearn.metrics import accuracy_score\n",
    "from sklearn.metrics import precision_score\n",
    "from sklearn.metrics import recall_score\n",
    "from sklearn.metrics import f1_score\n",
    "\n",
    "from sklearn.metrics import confusion_matrix as cm\n",
    "from sklearn.metrics import roc_auc_score\n",
    "from sklearn.metrics import cohen_kappa_score\n",
    "from imblearn.metrics import geometric_mean_score\n",
    "import numpy as np\n",
    "\n",
    "clf = SVC(kernel=\"linear\",random_state=seed)\n",
    "\n",
    "min_ratio = [0.5, 0.4, 0.3, 0.2, 0.1, 0.05, 0.01]\n",
    "IR = [1,1.5,2.33,4,9,19,99]\n",
    "\n",
    "class_scores = {}\n",
    "avg_scores = {}\n",
    "for i, r in enumerate(min_ratio):\n",
    "    X_train, X_test, y_train, y_test = simulate_simple_dataset([1-r, r])\n",
    "    std_clf = make_pipeline(StandardScaler(), clf)\n",
    "    std_clf.fit(X_train, y_train)\n",
    "    # evaluate for test set\n",
    "    y_pred = std_clf.predict(X_test)\n",
    "    conf_matrix = cm(y_test,y_pred, labels=[0,1], sample_weight=None)\n",
    "    class_scores[IR[i]] = {'accuracy':np.divide(conf_matrix.diagonal(),conf_matrix.sum(axis=1), dtype=float),\n",
    "                         'precision': precision_score(y_test,y_pred, average=None),\n",
    "                         'recall': recall_score(y_test,y_pred, average=None),\n",
    "                         'f1_score': f1_score(y_test,y_pred, average=None),\n",
    "                         'G-mean':geometric_mean_score(y_test,y_pred, average=None)\n",
    "                        }\n",
    "    avg_scores[IR[i]] = [accuracy_score(y_test,y_pred, normalize=True, sample_weight=None),\n",
    "                        precision_score(y_test,y_pred, average='weighted'), \n",
    "                        recall_score(y_test,y_pred, average='weighted'),\n",
    "                        f1_score(y_test,y_pred, average='weighted'), \n",
    "                        roc_auc_score(y_test, y_pred, average='weighted'),\n",
    "                        cohen_kappa_score(y_test, y_pred),\n",
    "                        geometric_mean_score(y_test,y_pred, average='weighted')]"
   ]
  },
  {
   "cell_type": "code",
   "execution_count": 3,
   "metadata": {
    "collapsed": false
   },
   "outputs": [
    {
     "data": {
      "text/plain": [
       "array([[296,   0],\n",
       "       [  3,   1]])"
      ]
     },
     "execution_count": 3,
     "metadata": {},
     "output_type": "execute_result"
    }
   ],
   "source": [
    "conf_matrix\n"
   ]
  },
  {
   "cell_type": "markdown",
   "metadata": {},
   "source": [
    "Cohen's Kappa: According to Wikipedia (citing their paper), Landis and Koch considers 0-0.20 as slight, 0.21-0.40 as fair, 0.41-0.60 as moderate, 0.61-0.80 as substantial, and 0.81-1 as almost perfect. Fleiss considers kappas > 0.75 as excellent, 0.40-0.75 as fair to good, and < 0.40 as poor. It is important to note that both scales are somewhat arbitrary."
   ]
  },
  {
   "cell_type": "code",
   "execution_count": 4,
   "metadata": {
    "collapsed": false
   },
   "outputs": [],
   "source": [
    "class_1 = {}\n",
    "class_0 = {}\n",
    "IR = [1,1.5,2.33,4,9,19,99]\n",
    "for i,k in enumerate(sorted(class_scores.keys())):\n",
    "    class_1[k] = {}\n",
    "    class_0[k] = {}\n",
    "    for key in class_scores[k].keys():\n",
    "        class_1[k][key] = round(class_scores[k][key][1],4)\n",
    "        class_0[k][key] = round(class_scores[k][key][0],4)\n"
   ]
  },
  {
   "cell_type": "code",
   "execution_count": 5,
   "metadata": {
    "collapsed": false
   },
   "outputs": [],
   "source": [
    "import pandas as pd\n",
    "df1 = pd.DataFrame.from_dict(class_0, orient='index')\n",
    "df2 = pd.DataFrame.from_dict(class_1, orient='index')"
   ]
  },
  {
   "cell_type": "code",
   "execution_count": 6,
   "metadata": {
    "collapsed": false
   },
   "outputs": [
    {
     "data": {
      "text/html": [
       "<div>\n",
       "<style scoped>\n",
       "    .dataframe tbody tr th:only-of-type {\n",
       "        vertical-align: middle;\n",
       "    }\n",
       "\n",
       "    .dataframe tbody tr th {\n",
       "        vertical-align: top;\n",
       "    }\n",
       "\n",
       "    .dataframe thead th {\n",
       "        text-align: right;\n",
       "    }\n",
       "</style>\n",
       "<table border=\"1\" class=\"dataframe\">\n",
       "  <thead>\n",
       "    <tr style=\"text-align: right;\">\n",
       "      <th></th>\n",
       "      <th>accuracy</th>\n",
       "      <th>precision</th>\n",
       "      <th>recall</th>\n",
       "      <th>f1_score</th>\n",
       "      <th>G-mean</th>\n",
       "    </tr>\n",
       "  </thead>\n",
       "  <tbody>\n",
       "    <tr>\n",
       "      <th>1.00</th>\n",
       "      <td>0.9536</td>\n",
       "      <td>0.9664</td>\n",
       "      <td>0.9536</td>\n",
       "      <td>0.9600</td>\n",
       "      <td>0.9600</td>\n",
       "    </tr>\n",
       "    <tr>\n",
       "      <th>1.50</th>\n",
       "      <td>0.9722</td>\n",
       "      <td>0.9259</td>\n",
       "      <td>0.9722</td>\n",
       "      <td>0.9485</td>\n",
       "      <td>0.9267</td>\n",
       "    </tr>\n",
       "    <tr>\n",
       "      <th>2.33</th>\n",
       "      <td>0.9713</td>\n",
       "      <td>0.9713</td>\n",
       "      <td>0.9713</td>\n",
       "      <td>0.9713</td>\n",
       "      <td>0.9525</td>\n",
       "    </tr>\n",
       "    <tr>\n",
       "      <th>4.00</th>\n",
       "      <td>0.9665</td>\n",
       "      <td>0.9747</td>\n",
       "      <td>0.9665</td>\n",
       "      <td>0.9706</td>\n",
       "      <td>0.9335</td>\n",
       "    </tr>\n",
       "    <tr>\n",
       "      <th>9.00</th>\n",
       "      <td>0.9963</td>\n",
       "      <td>0.9710</td>\n",
       "      <td>0.9963</td>\n",
       "      <td>0.9835</td>\n",
       "      <td>0.8598</td>\n",
       "    </tr>\n",
       "    <tr>\n",
       "      <th>19.00</th>\n",
       "      <td>0.9859</td>\n",
       "      <td>0.9790</td>\n",
       "      <td>0.9859</td>\n",
       "      <td>0.9825</td>\n",
       "      <td>0.7850</td>\n",
       "    </tr>\n",
       "    <tr>\n",
       "      <th>99.00</th>\n",
       "      <td>1.0000</td>\n",
       "      <td>0.9900</td>\n",
       "      <td>1.0000</td>\n",
       "      <td>0.9950</td>\n",
       "      <td>0.5000</td>\n",
       "    </tr>\n",
       "  </tbody>\n",
       "</table>\n",
       "</div>"
      ],
      "text/plain": [
       "       accuracy  precision  recall  f1_score  G-mean\n",
       "1.00     0.9536     0.9664  0.9536    0.9600  0.9600\n",
       "1.50     0.9722     0.9259  0.9722    0.9485  0.9267\n",
       "2.33     0.9713     0.9713  0.9713    0.9713  0.9525\n",
       "4.00     0.9665     0.9747  0.9665    0.9706  0.9335\n",
       "9.00     0.9963     0.9710  0.9963    0.9835  0.8598\n",
       "19.00    0.9859     0.9790  0.9859    0.9825  0.7850\n",
       "99.00    1.0000     0.9900  1.0000    0.9950  0.5000"
      ]
     },
     "execution_count": 6,
     "metadata": {},
     "output_type": "execute_result"
    }
   ],
   "source": [
    "df1 # class 0 (majority class)\n",
    "df1 = df1.reindex(columns=['accuracy','precision','recall','f1_score','G-mean'])\n",
    "df1"
   ]
  },
  {
   "cell_type": "code",
   "execution_count": 7,
   "metadata": {
    "collapsed": false
   },
   "outputs": [
    {
     "data": {
      "text/html": [
       "<div>\n",
       "<style scoped>\n",
       "    .dataframe tbody tr th:only-of-type {\n",
       "        vertical-align: middle;\n",
       "    }\n",
       "\n",
       "    .dataframe tbody tr th {\n",
       "        vertical-align: top;\n",
       "    }\n",
       "\n",
       "    .dataframe thead th {\n",
       "        text-align: right;\n",
       "    }\n",
       "</style>\n",
       "<table border=\"1\" class=\"dataframe\">\n",
       "  <thead>\n",
       "    <tr style=\"text-align: right;\">\n",
       "      <th></th>\n",
       "      <th>accuracy</th>\n",
       "      <th>precision</th>\n",
       "      <th>recall</th>\n",
       "      <th>f1_score</th>\n",
       "      <th>G-mean</th>\n",
       "    </tr>\n",
       "  </thead>\n",
       "  <tbody>\n",
       "    <tr>\n",
       "      <th>1.00</th>\n",
       "      <td>0.9664</td>\n",
       "      <td>0.9536</td>\n",
       "      <td>0.9664</td>\n",
       "      <td>0.9600</td>\n",
       "      <td>0.9600</td>\n",
       "    </tr>\n",
       "    <tr>\n",
       "      <th>1.50</th>\n",
       "      <td>0.8833</td>\n",
       "      <td>0.9550</td>\n",
       "      <td>0.8833</td>\n",
       "      <td>0.9177</td>\n",
       "      <td>0.9267</td>\n",
       "    </tr>\n",
       "    <tr>\n",
       "      <th>2.33</th>\n",
       "      <td>0.9341</td>\n",
       "      <td>0.9341</td>\n",
       "      <td>0.9341</td>\n",
       "      <td>0.9341</td>\n",
       "      <td>0.9525</td>\n",
       "    </tr>\n",
       "    <tr>\n",
       "      <th>4.00</th>\n",
       "      <td>0.9016</td>\n",
       "      <td>0.8730</td>\n",
       "      <td>0.9016</td>\n",
       "      <td>0.8871</td>\n",
       "      <td>0.9335</td>\n",
       "    </tr>\n",
       "    <tr>\n",
       "      <th>9.00</th>\n",
       "      <td>0.7419</td>\n",
       "      <td>0.9583</td>\n",
       "      <td>0.7419</td>\n",
       "      <td>0.8364</td>\n",
       "      <td>0.8598</td>\n",
       "    </tr>\n",
       "    <tr>\n",
       "      <th>19.00</th>\n",
       "      <td>0.6250</td>\n",
       "      <td>0.7143</td>\n",
       "      <td>0.6250</td>\n",
       "      <td>0.6667</td>\n",
       "      <td>0.7850</td>\n",
       "    </tr>\n",
       "    <tr>\n",
       "      <th>99.00</th>\n",
       "      <td>0.2500</td>\n",
       "      <td>1.0000</td>\n",
       "      <td>0.2500</td>\n",
       "      <td>0.4000</td>\n",
       "      <td>0.5000</td>\n",
       "    </tr>\n",
       "  </tbody>\n",
       "</table>\n",
       "</div>"
      ],
      "text/plain": [
       "       accuracy  precision  recall  f1_score  G-mean\n",
       "1.00     0.9664     0.9536  0.9664    0.9600  0.9600\n",
       "1.50     0.8833     0.9550  0.8833    0.9177  0.9267\n",
       "2.33     0.9341     0.9341  0.9341    0.9341  0.9525\n",
       "4.00     0.9016     0.8730  0.9016    0.8871  0.9335\n",
       "9.00     0.7419     0.9583  0.7419    0.8364  0.8598\n",
       "19.00    0.6250     0.7143  0.6250    0.6667  0.7850\n",
       "99.00    0.2500     1.0000  0.2500    0.4000  0.5000"
      ]
     },
     "execution_count": 7,
     "metadata": {},
     "output_type": "execute_result"
    }
   ],
   "source": [
    "df2 # class 1 (minority class)\n",
    "df2 = df2.reindex(columns=['accuracy','precision','recall','f1_score','G-mean'])\n",
    "df2"
   ]
  },
  {
   "cell_type": "code",
   "execution_count": 8,
   "metadata": {
    "collapsed": false
   },
   "outputs": [
    {
     "data": {
      "text/html": [
       "<div>\n",
       "<style scoped>\n",
       "    .dataframe tbody tr th:only-of-type {\n",
       "        vertical-align: middle;\n",
       "    }\n",
       "\n",
       "    .dataframe tbody tr th {\n",
       "        vertical-align: top;\n",
       "    }\n",
       "\n",
       "    .dataframe thead th {\n",
       "        text-align: right;\n",
       "    }\n",
       "</style>\n",
       "<table border=\"1\" class=\"dataframe\">\n",
       "  <thead>\n",
       "    <tr style=\"text-align: right;\">\n",
       "      <th></th>\n",
       "      <th>accuracy</th>\n",
       "      <th>precision</th>\n",
       "      <th>recall</th>\n",
       "      <th>F1-score</th>\n",
       "      <th>ROC_AUC</th>\n",
       "      <th>kappa score</th>\n",
       "      <th>G-mean</th>\n",
       "    </tr>\n",
       "  </thead>\n",
       "  <tbody>\n",
       "    <tr>\n",
       "      <th>1.00</th>\n",
       "      <td>0.960000</td>\n",
       "      <td>0.960085</td>\n",
       "      <td>0.960000</td>\n",
       "      <td>0.960000</td>\n",
       "      <td>0.960043</td>\n",
       "      <td>0.920004</td>\n",
       "      <td>0.960043</td>\n",
       "    </tr>\n",
       "    <tr>\n",
       "      <th>1.50</th>\n",
       "      <td>0.936667</td>\n",
       "      <td>0.937538</td>\n",
       "      <td>0.936667</td>\n",
       "      <td>0.936205</td>\n",
       "      <td>0.927778</td>\n",
       "      <td>0.866385</td>\n",
       "      <td>0.927735</td>\n",
       "    </tr>\n",
       "    <tr>\n",
       "      <th>2.33</th>\n",
       "      <td>0.960000</td>\n",
       "      <td>0.960000</td>\n",
       "      <td>0.960000</td>\n",
       "      <td>0.960000</td>\n",
       "      <td>0.952679</td>\n",
       "      <td>0.905358</td>\n",
       "      <td>0.952651</td>\n",
       "    </tr>\n",
       "    <tr>\n",
       "      <th>4.00</th>\n",
       "      <td>0.953333</td>\n",
       "      <td>0.954011</td>\n",
       "      <td>0.953333</td>\n",
       "      <td>0.953612</td>\n",
       "      <td>0.934083</td>\n",
       "      <td>0.857695</td>\n",
       "      <td>0.933885</td>\n",
       "    </tr>\n",
       "    <tr>\n",
       "      <th>9.00</th>\n",
       "      <td>0.970000</td>\n",
       "      <td>0.969704</td>\n",
       "      <td>0.970000</td>\n",
       "      <td>0.968284</td>\n",
       "      <td>0.869109</td>\n",
       "      <td>0.820144</td>\n",
       "      <td>0.863233</td>\n",
       "    </tr>\n",
       "    <tr>\n",
       "      <th>19.00</th>\n",
       "      <td>0.966667</td>\n",
       "      <td>0.964902</td>\n",
       "      <td>0.966667</td>\n",
       "      <td>0.965614</td>\n",
       "      <td>0.805458</td>\n",
       "      <td>0.649205</td>\n",
       "      <td>0.789160</td>\n",
       "    </tr>\n",
       "    <tr>\n",
       "      <th>99.00</th>\n",
       "      <td>0.990000</td>\n",
       "      <td>0.990100</td>\n",
       "      <td>0.990000</td>\n",
       "      <td>0.987025</td>\n",
       "      <td>0.625000</td>\n",
       "      <td>0.396783</td>\n",
       "      <td>0.507346</td>\n",
       "    </tr>\n",
       "  </tbody>\n",
       "</table>\n",
       "</div>"
      ],
      "text/plain": [
       "       accuracy  precision    recall  F1-score   ROC_AUC  kappa score  \\\n",
       "1.00   0.960000   0.960085  0.960000  0.960000  0.960043     0.920004   \n",
       "1.50   0.936667   0.937538  0.936667  0.936205  0.927778     0.866385   \n",
       "2.33   0.960000   0.960000  0.960000  0.960000  0.952679     0.905358   \n",
       "4.00   0.953333   0.954011  0.953333  0.953612  0.934083     0.857695   \n",
       "9.00   0.970000   0.969704  0.970000  0.968284  0.869109     0.820144   \n",
       "19.00  0.966667   0.964902  0.966667  0.965614  0.805458     0.649205   \n",
       "99.00  0.990000   0.990100  0.990000  0.987025  0.625000     0.396783   \n",
       "\n",
       "         G-mean  \n",
       "1.00   0.960043  \n",
       "1.50   0.927735  \n",
       "2.33   0.952651  \n",
       "4.00   0.933885  \n",
       "9.00   0.863233  \n",
       "19.00  0.789160  \n",
       "99.00  0.507346  "
      ]
     },
     "execution_count": 8,
     "metadata": {},
     "output_type": "execute_result"
    }
   ],
   "source": [
    "df3 = pd.DataFrame.from_dict(avg_scores, orient='index')\n",
    "df3.columns = ['accuracy', 'precision', 'recall', 'F1-score', 'ROC_AUC', 'kappa score','G-mean']\n",
    "df3.sort_index(inplace=True)\n",
    "df3"
   ]
  },
  {
   "cell_type": "markdown",
   "metadata": {},
   "source": [
    "### Investigate the various options for averaging "
   ]
  },
  {
   "cell_type": "code",
   "execution_count": 11,
   "metadata": {
    "collapsed": false
   },
   "outputs": [
    {
     "name": "stdout",
     "output_type": "stream",
     "text": [
      "average=None\n",
      "[array([0.98996656, 1.        ]), array([1.  , 0.25]), array([0.99495798, 0.4       ]), 0.625]\n"
     ]
    }
   ],
   "source": [
    "print('average=None') # scores for each class are returned. \n",
    "print([precision_score(y_test,y_pred, average=None), recall_score(y_test,y_pred, average=None),\n",
    "f1_score(y_test,y_pred, average=None), roc_auc_score(y_test, y_pred, average=None)])"
   ]
  },
  {
   "cell_type": "code",
   "execution_count": 12,
   "metadata": {
    "collapsed": false
   },
   "outputs": [
    {
     "name": "stdout",
     "output_type": "stream",
     "text": [
      "average=binary (default)\n",
      "[1.0, 0.25, 0.4]\n"
     ]
    }
   ],
   "source": [
    "print('average=binary (default)') # Only report results for the class specified by pos_label. \n",
    "print([precision_score(y_test,y_pred, average='binary'), recall_score(y_test,y_pred, average='binary'),\n",
    "f1_score(y_test,y_pred, average='binary')])\n",
    "# average=binary not available for roc_auc_score"
   ]
  },
  {
   "cell_type": "code",
   "execution_count": 13,
   "metadata": {
    "collapsed": false
   },
   "outputs": [
    {
     "name": "stdout",
     "output_type": "stream",
     "text": [
      "average=micro\n",
      "[0.99, 0.99, 0.99, 0.625]\n"
     ]
    }
   ],
   "source": [
    "print('average=micro')# Calculate metrics globally by counting the total TP, FP and FN.\n",
    "print([precision_score(y_test,y_pred, average='micro'), recall_score(y_test,y_pred, average='micro'),\n",
    "f1_score(y_test,y_pred, average='micro'), roc_auc_score(y_test, y_pred, average='micro')])"
   ]
  },
  {
   "cell_type": "code",
   "execution_count": 14,
   "metadata": {
    "collapsed": false
   },
   "outputs": [
    {
     "name": "stdout",
     "output_type": "stream",
     "text": [
      "average=macro\n",
      "[0.9949832775919732, 0.625, 0.6974789915966386, 0.625]\n"
     ]
    }
   ],
   "source": [
    "print('average=macro') # Calculate metrics for each label, and find their unweighted mean. \n",
    "print([precision_score(y_test,y_pred, average='macro'), recall_score(y_test,y_pred, average='macro'),\n",
    "f1_score(y_test,y_pred, average='macro'), roc_auc_score(y_test, y_pred, average='macro')])"
   ]
  },
  {
   "cell_type": "code",
   "execution_count": 15,
   "metadata": {
    "collapsed": false
   },
   "outputs": [
    {
     "name": "stdout",
     "output_type": "stream",
     "text": [
      "average=weighted\n",
      "[0.9901003344481605, 0.99, 0.9870252100840337, 0.625]\n"
     ]
    }
   ],
   "source": [
    "print('average=weighted')\n",
    "print([precision_score(y_test,y_pred, average='weighted'), recall_score(y_test,y_pred, average='weighted'),\n",
    "f1_score(y_test,y_pred, average='weighted'), roc_auc_score(y_test, y_pred, average='weighted')])\n",
    "# Calculate metrics for each label, and find their average, \n",
    "# weighted by support (the number of true instances for each label). \n",
    "# This alters ‘macro’ to account for label imbalance; it can result \n",
    "# in an F-score that is not between precision and recall."
   ]
  },
  {
   "cell_type": "markdown",
   "metadata": {},
   "source": [
    "### Investigate geometric mean on binary and multiclass dataset"
   ]
  },
  {
   "cell_type": "code",
   "execution_count": 26,
   "metadata": {
    "collapsed": false
   },
   "outputs": [
    {
     "data": {
      "text/html": [
       "<div>\n",
       "<style scoped>\n",
       "    .dataframe tbody tr th:only-of-type {\n",
       "        vertical-align: middle;\n",
       "    }\n",
       "\n",
       "    .dataframe tbody tr th {\n",
       "        vertical-align: top;\n",
       "    }\n",
       "\n",
       "    .dataframe thead th {\n",
       "        text-align: right;\n",
       "    }\n",
       "</style>\n",
       "<table border=\"1\" class=\"dataframe\">\n",
       "  <thead>\n",
       "    <tr style=\"text-align: right;\">\n",
       "      <th></th>\n",
       "      <th>class#1</th>\n",
       "      <th>class#2</th>\n",
       "      <th>average</th>\n",
       "    </tr>\n",
       "  </thead>\n",
       "  <tbody>\n",
       "    <tr>\n",
       "      <th>1.00</th>\n",
       "      <td>0.960021</td>\n",
       "      <td>0.960021</td>\n",
       "      <td>0.960043</td>\n",
       "    </tr>\n",
       "    <tr>\n",
       "      <th>1.50</th>\n",
       "      <td>0.926713</td>\n",
       "      <td>0.926713</td>\n",
       "      <td>0.927735</td>\n",
       "    </tr>\n",
       "    <tr>\n",
       "      <th>2.33</th>\n",
       "      <td>0.952497</td>\n",
       "      <td>0.952497</td>\n",
       "      <td>0.952651</td>\n",
       "    </tr>\n",
       "    <tr>\n",
       "      <th>4.00</th>\n",
       "      <td>0.933520</td>\n",
       "      <td>0.933520</td>\n",
       "      <td>0.933885</td>\n",
       "    </tr>\n",
       "    <tr>\n",
       "      <th>9.00</th>\n",
       "      <td>0.859754</td>\n",
       "      <td>0.859754</td>\n",
       "      <td>0.863233</td>\n",
       "    </tr>\n",
       "    <tr>\n",
       "      <th>19.00</th>\n",
       "      <td>0.784982</td>\n",
       "      <td>0.784982</td>\n",
       "      <td>0.789160</td>\n",
       "    </tr>\n",
       "    <tr>\n",
       "      <th>99.00</th>\n",
       "      <td>0.500000</td>\n",
       "      <td>0.500000</td>\n",
       "      <td>0.507346</td>\n",
       "    </tr>\n",
       "  </tbody>\n",
       "</table>\n",
       "</div>"
      ],
      "text/plain": [
       "        class#1   class#2   average\n",
       "1.00   0.960021  0.960021  0.960043\n",
       "1.50   0.926713  0.926713  0.927735\n",
       "2.33   0.952497  0.952497  0.952651\n",
       "4.00   0.933520  0.933520  0.933885\n",
       "9.00   0.859754  0.859754  0.863233\n",
       "19.00  0.784982  0.784982  0.789160\n",
       "99.00  0.500000  0.500000  0.507346"
      ]
     },
     "execution_count": 26,
     "metadata": {},
     "output_type": "execute_result"
    }
   ],
   "source": [
    "gmeans_binary = {}\n",
    "avg_binary = {}\n",
    "class_scores\n",
    "for ir in IR:\n",
    "    gmeans_binary[ir] = class_scores[ir]['G-mean']\n",
    "    avg_binary[ir] = avg_scores[ir][-1]\n",
    "df4 = pd.DataFrame.from_dict(gmeans_binary, orient='index')\n",
    "df4.columns = ['class#1','class#2']\n",
    "df4.sort_index(inplace=True) \n",
    "tmp = pd.DataFrame.from_dict(avg_binary, orient='index')\n",
    "tmp.sort_index(inplace=True)\n",
    "tmp.columns=['average']\n",
    "df4['average'] = tmp['average']\n",
    "df4"
   ]
  },
  {
   "cell_type": "code",
   "execution_count": 28,
   "metadata": {
    "collapsed": false
   },
   "outputs": [
    {
     "data": {
      "image/png": "[encoded data removed]",
      "text/plain": [
       "<matplotlib.figure.Figure at 0x119788350>"
      ]
     },
     "metadata": {},
     "output_type": "display_data"
    }
   ],
   "source": [
    "df4.plot()\n",
    "plt.xlabel('Imbalance ratio (IR)')\n",
    "plt.ylabel('G-mean')\n",
    "plt.title('Binary classification')\n",
    "plt.show()"
   ]
  },
  {
   "cell_type": "code",
   "execution_count": 30,
   "metadata": {
    "collapsed": false
   },
   "outputs": [],
   "source": [
    "gmeans = {}\n",
    "avg = {}\n",
    "for i, r in enumerate(min_ratio):\n",
    "    X, y = make_classification(n_samples=1000, n_features=20,\n",
    "                                   n_informative=3, n_redundant=2,\n",
    "                                   n_classes=3, random_state=seed,\n",
    "                                   weights=[(1-r)/2,(1-r)/2, r]\n",
    "                              )\n",
    "    # split dataset into training and test sets\n",
    "    sss = StratifiedShuffleSplit(n_splits=5, test_size=0.3, random_state=seed)\n",
    "    sss.get_n_splits(X, y)\n",
    "    for train_index, test_index in sss.split(X, y):\n",
    "        X_train, X_test = X[train_index], X[test_index]\n",
    "        y_train, y_test = y[train_index], y[test_index]\n",
    "    std_clf = make_pipeline(StandardScaler(), clf)\n",
    "    std_clf.fit(X_train, y_train)\n",
    "    # evaluate for test set\n",
    "    y_pred = std_clf.predict(X_test)\n",
    "    gmeans[IR[i]] = geometric_mean_score(y_test,y_pred, average=None)\n",
    "    avg[IR[i]] = geometric_mean_score(y_test,y_pred, average='weighted')\n",
    "    "
   ]
  },
  {
   "cell_type": "code",
   "execution_count": 31,
   "metadata": {
    "collapsed": false
   },
   "outputs": [],
   "source": [
    "df5 = pd.DataFrame.from_dict(gmeans, orient='index')\n",
    "df5.columns = ['class#1','class#2','class#3']\n",
    "df5.sort_index(inplace=True) "
   ]
  },
  {
   "cell_type": "code",
   "execution_count": 32,
   "metadata": {
    "collapsed": false
   },
   "outputs": [
    {
     "data": {
      "text/html": [
       "<div>\n",
       "<style scoped>\n",
       "    .dataframe tbody tr th:only-of-type {\n",
       "        vertical-align: middle;\n",
       "    }\n",
       "\n",
       "    .dataframe tbody tr th {\n",
       "        vertical-align: top;\n",
       "    }\n",
       "\n",
       "    .dataframe thead th {\n",
       "        text-align: right;\n",
       "    }\n",
       "</style>\n",
       "<table border=\"1\" class=\"dataframe\">\n",
       "  <thead>\n",
       "    <tr style=\"text-align: right;\">\n",
       "      <th></th>\n",
       "      <th>class#1</th>\n",
       "      <th>class#2</th>\n",
       "      <th>class#3</th>\n",
       "      <th>average</th>\n",
       "    </tr>\n",
       "  </thead>\n",
       "  <tbody>\n",
       "    <tr>\n",
       "      <th>1.00</th>\n",
       "      <td>0.891987</td>\n",
       "      <td>0.821742</td>\n",
       "      <td>0.918836</td>\n",
       "      <td>0.891205</td>\n",
       "    </tr>\n",
       "    <tr>\n",
       "      <th>1.50</th>\n",
       "      <td>0.901914</td>\n",
       "      <td>0.846218</td>\n",
       "      <td>0.897091</td>\n",
       "      <td>0.884696</td>\n",
       "    </tr>\n",
       "    <tr>\n",
       "      <th>2.33</th>\n",
       "      <td>0.896146</td>\n",
       "      <td>0.854779</td>\n",
       "      <td>0.905539</td>\n",
       "      <td>0.885028</td>\n",
       "    </tr>\n",
       "    <tr>\n",
       "      <th>4.00</th>\n",
       "      <td>0.922205</td>\n",
       "      <td>0.885375</td>\n",
       "      <td>0.858859</td>\n",
       "      <td>0.895244</td>\n",
       "    </tr>\n",
       "    <tr>\n",
       "      <th>9.00</th>\n",
       "      <td>0.870311</td>\n",
       "      <td>0.833570</td>\n",
       "      <td>0.700847</td>\n",
       "      <td>0.839323</td>\n",
       "    </tr>\n",
       "    <tr>\n",
       "      <th>19.00</th>\n",
       "      <td>0.886403</td>\n",
       "      <td>0.879203</td>\n",
       "      <td>0.718673</td>\n",
       "      <td>0.876054</td>\n",
       "    </tr>\n",
       "    <tr>\n",
       "      <th>99.00</th>\n",
       "      <td>0.872946</td>\n",
       "      <td>0.866737</td>\n",
       "      <td>0.000000</td>\n",
       "      <td>0.865318</td>\n",
       "    </tr>\n",
       "  </tbody>\n",
       "</table>\n",
       "</div>"
      ],
      "text/plain": [
       "        class#1   class#2   class#3   average\n",
       "1.00   0.891987  0.821742  0.918836  0.891205\n",
       "1.50   0.901914  0.846218  0.897091  0.884696\n",
       "2.33   0.896146  0.854779  0.905539  0.885028\n",
       "4.00   0.922205  0.885375  0.858859  0.895244\n",
       "9.00   0.870311  0.833570  0.700847  0.839323\n",
       "19.00  0.886403  0.879203  0.718673  0.876054\n",
       "99.00  0.872946  0.866737  0.000000  0.865318"
      ]
     },
     "execution_count": 32,
     "metadata": {},
     "output_type": "execute_result"
    }
   ],
   "source": [
    "tmp = pd.DataFrame.from_dict(avg, orient='index')\n",
    "tmp.sort_index(inplace=True)\n",
    "tmp.columns=['average']\n",
    "df5['average'] = tmp['average']\n",
    "df5"
   ]
  },
  {
   "cell_type": "code",
   "execution_count": 33,
   "metadata": {
    "collapsed": false,
    "scrolled": true
   },
   "outputs": [
    {
     "data": {
      "image/png": "[encoded data removed]",
      "text/plain": [
       "<matplotlib.figure.Figure at 0x11944f6d0>"
      ]
     },
     "metadata": {},
     "output_type": "display_data"
    }
   ],
   "source": [
    "df5.plot()\n",
    "plt.xlabel('Imbalance ratio (IR)')\n",
    "plt.ylabel('G-mean')\n",
    "plt.title('Multi-class classification')\n",
    "plt.show()"
   ]
  }
 ],
 "metadata": {
  "anaconda-cloud": {},
  "kernelspec": {
   "display_name": "Python [conda env:anaconda]",
   "language": "python",
   "name": "conda-env-anaconda-py"
  },
  "language_info": {
   "codemirror_mode": {
    "name": "ipython",
    "version": 2
   },
   "file_extension": ".py",
   "mimetype": "text/x-python",
   "name": "python",
   "nbconvert_exporter": "python",
   "pygments_lexer": "ipython2",
   "version": "2.7.12"
  }
 },
 "nbformat": 4,
 "nbformat_minor": 1
}
