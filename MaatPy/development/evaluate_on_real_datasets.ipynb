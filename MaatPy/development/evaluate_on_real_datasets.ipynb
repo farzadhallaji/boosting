{
 "cells": [
  {
   "cell_type": "markdown",
   "metadata": {},
   "source": [
    "# Evaluating on real datasets"
   ]
  },
  {
   "cell_type": "code",
   "execution_count": 1,
   "metadata": {
    "collapsed": false
   },
   "outputs": [],
   "source": [
    "from sklearn.model_selection import StratifiedShuffleSplit\n",
    "from sklearn.metrics import cohen_kappa_score\n",
    "from collections import Counter\n",
    "import numpy as np\n",
    "import pandas as pd\n",
    "\n",
    "seed = 0"
   ]
  },
  {
   "cell_type": "code",
   "execution_count": 2,
   "metadata": {
    "collapsed": false
   },
   "outputs": [],
   "source": [
    "from sklearn.datasets import load_iris\n",
    "iris = load_iris()\n",
    "X1 = iris.data\n",
    "y1 = iris.target\n",
    "sss = StratifiedShuffleSplit(n_splits=5, test_size=0.3, random_state=seed)\n",
    "sss.get_n_splits(X1, y1)\n",
    "for train_index, test_index in sss.split(X1, y1):\n",
    "    X1_train, X1_test = X1[train_index], X1[test_index]\n",
    "    y1_train, y1_test = y1[train_index], y1[test_index]"
   ]
  },
  {
   "cell_type": "code",
   "execution_count": 3,
   "metadata": {
    "collapsed": false
   },
   "outputs": [
    {
     "name": "stderr",
     "output_type": "stream",
     "text": [
      "/Users/georgiakapatai/Dropbox/Courses/MScBirkbeck/FinalProject/Project/MaatPy/venv/lib/python3.7/site-packages/sklearn/ensemble/weight_boosting.py:29: DeprecationWarning: numpy.core.umath_tests is an internal NumPy module and should not be imported. It will be removed in a future NumPy release.\n",
      "  from numpy.core.umath_tests import inner1d\n"
     ]
    }
   ],
   "source": [
    "from maatpy.dataset import Dataset\n",
    "yeast = Dataset()\n",
    "yeast.load_from_csv('datasets/yeast_data.csv', output_column='Class', ignore='Sequence Name')\n",
    "X2 = yeast.data\n",
    "y2 = yeast.target\n",
    "sss = StratifiedShuffleSplit(n_splits=5, test_size=0.3, random_state=seed)\n",
    "sss.get_n_splits(X2, y2)\n",
    "for train_index, test_index in sss.split(X2, y2):\n",
    "    X2_train, X2_test = X2[train_index], X2[test_index]\n",
    "    y2_train, y2_test = y2[train_index], y2[test_index]"
   ]
  },
  {
   "cell_type": "code",
   "execution_count": 4,
   "metadata": {
    "collapsed": false
   },
   "outputs": [],
   "source": [
    "sat_trn = Dataset()\n",
    "sat_trn.load_from_csv('datasets/sat_train.csv', output_column='X37')\n",
    "X3_train = sat_trn.data\n",
    "y3_train = sat_trn.target\n",
    "sat_tst = Dataset()\n",
    "sat_tst.load_from_csv('datasets/sat_tst.csv', output_column='X37')\n",
    "X3_test = sat_tst.data\n",
    "y3_test = sat_tst.target"
   ]
  },
  {
   "cell_type": "code",
   "execution_count": 5,
   "metadata": {
    "collapsed": false
   },
   "outputs": [],
   "source": [
    "abalone = Dataset()\n",
    "abalone.load_from_csv('datasets/abalone_data.csv', output_column='Rings')\n",
    "X4 = abalone.data\n",
    "y4 = abalone.target\n",
    "sss = StratifiedShuffleSplit(n_splits=5, test_size=0.3, random_state=seed)\n",
    "sss.get_n_splits(X4, y4)\n",
    "for train_index, test_index in sss.split(X4, y4):\n",
    "    X4_train, X4_test = X4[train_index], X4[test_index]\n",
    "    y4_train, y4_test = y4[train_index], y4[test_index]"
   ]
  },
  {
   "cell_type": "code",
   "execution_count": 6,
   "metadata": {
    "collapsed": true
   },
   "outputs": [],
   "source": [
    "heart = Dataset()\n",
    "heart.load_from_csv('datasets/heart_data.csv', output_column='X14')\n",
    "X5 = heart.data\n",
    "y5 = heart.target\n",
    "sss = StratifiedShuffleSplit(n_splits=5, test_size=0.3, random_state=seed)\n",
    "sss.get_n_splits(X5, y5)\n",
    "for train_index, test_index in sss.split(X5, y5):\n",
    "    X5_train, X5_test = X5[train_index], X5[test_index]\n",
    "    y5_train, y5_test = y5[train_index], y5[test_index]"
   ]
  },
  {
   "cell_type": "code",
   "execution_count": 7,
   "metadata": {
    "collapsed": false
   },
   "outputs": [],
   "source": [
    "datasets = {'Iris': [X1_train, y1_train, X1_test, y1_test, 4],\n",
    "           'yeast': [X2_train, y2_train, X2_test, y2_test, 8],\n",
    "           'satimage': [X3_train, y3_train, X3_test, y3_test, 36],\n",
    "           'abalone': [X4_train, y4_train, X4_test, y4_test, 8],\n",
    "           'heart': [X5_train, y5_train, X5_test, y5_test, 13],}"
   ]
  },
  {
   "cell_type": "code",
   "execution_count": 8,
   "metadata": {
    "collapsed": false
   },
   "outputs": [],
   "source": [
    "info = {'Iris': [X1.shape[1], len(y1), len(np.unique(y1)), round((Counter(y1).most_common()[-1][1]/float(len(y1)))*100, 3)],\n",
    "        'Yeast': [X2.shape[1], len(y2), len(np.unique(y2)), round((Counter(y2).most_common()[-1][1]/float(len(y2)))*100, 3)],\n",
    "        'Satimage': [X3_train.shape[1], len(np.concatenate([y3_train,y3_test])), len(np.unique(np.concatenate([y3_train,y3_test]))), round((Counter(np.concatenate([y3_train,y3_test])).most_common()[-1][1]/float(len(np.concatenate([y3_train,y3_test]))))*100, 3)],\n",
    "        'Abalone':[X4.shape[1], len(y4), len(np.unique(y4)), round((Counter(y4).most_common()[-1][1]/float(len(y4)))*100, 3)],\n",
    "        'Heart': [X5.shape[1], len(y5), len(np.unique(y5)), round((Counter(y5).most_common()[-1][1]/float(len(y5)))*100, 3)]}\n"
   ]
  },
  {
   "cell_type": "code",
   "execution_count": 9,
   "metadata": {
    "collapsed": false
   },
   "outputs": [
    {
     "data": {
      "text/html": [
       "<div>\n",
       "<style scoped>\n",
       "    .dataframe tbody tr th:only-of-type {\n",
       "        vertical-align: middle;\n",
       "    }\n",
       "\n",
       "    .dataframe tbody tr th {\n",
       "        vertical-align: top;\n",
       "    }\n",
       "\n",
       "    .dataframe thead th {\n",
       "        text-align: right;\n",
       "    }\n",
       "</style>\n",
       "<table border=\"1\" class=\"dataframe\">\n",
       "  <thead>\n",
       "    <tr style=\"text-align: right;\">\n",
       "      <th></th>\n",
       "      <th>#Attributes</th>\n",
       "      <th>#Samples</th>\n",
       "      <th>#Classes</th>\n",
       "      <th>%Minority class</th>\n",
       "    </tr>\n",
       "  </thead>\n",
       "  <tbody>\n",
       "    <tr>\n",
       "      <th>Abalone</th>\n",
       "      <td>8</td>\n",
       "      <td>4098</td>\n",
       "      <td>16</td>\n",
       "      <td>0.781</td>\n",
       "    </tr>\n",
       "    <tr>\n",
       "      <th>Heart</th>\n",
       "      <td>13</td>\n",
       "      <td>270</td>\n",
       "      <td>2</td>\n",
       "      <td>44.444</td>\n",
       "    </tr>\n",
       "    <tr>\n",
       "      <th>Iris</th>\n",
       "      <td>4</td>\n",
       "      <td>150</td>\n",
       "      <td>3</td>\n",
       "      <td>33.333</td>\n",
       "    </tr>\n",
       "    <tr>\n",
       "      <th>Satimage</th>\n",
       "      <td>36</td>\n",
       "      <td>6435</td>\n",
       "      <td>6</td>\n",
       "      <td>9.728</td>\n",
       "    </tr>\n",
       "    <tr>\n",
       "      <th>Yeast</th>\n",
       "      <td>8</td>\n",
       "      <td>1484</td>\n",
       "      <td>10</td>\n",
       "      <td>0.337</td>\n",
       "    </tr>\n",
       "  </tbody>\n",
       "</table>\n",
       "</div>"
      ],
      "text/plain": [
       "          #Attributes  #Samples  #Classes  %Minority class\n",
       "Abalone             8      4098        16            0.781\n",
       "Heart              13       270         2           44.444\n",
       "Iris                4       150         3           33.333\n",
       "Satimage           36      6435         6            9.728\n",
       "Yeast               8      1484        10            0.337"
      ]
     },
     "execution_count": 9,
     "metadata": {},
     "output_type": "execute_result"
    }
   ],
   "source": [
    "df = pd.DataFrame.from_dict(info, orient='index', columns=['#Attributes', '#Samples', '#Classes', '%Minority class'])\n",
    "df.sort_index()"
   ]
  },
  {
   "cell_type": "markdown",
   "metadata": {},
   "source": [
    "## AdaCost"
   ]
  },
  {
   "cell_type": "code",
   "execution_count": 10,
   "metadata": {
    "collapsed": false
   },
   "outputs": [
    {
     "name": "stderr",
     "output_type": "stream",
     "text": [
      "/Users/georgiakapatai/Dropbox/Courses/MScBirkbeck/FinalProject/Project/MaatPy/venv/lib/python3.7/site-packages/MaatPy-1.0-py3.7.egg/maatpy/classifiers/adacost.py:241: RuntimeWarning: overflow encountered in exp\n",
      "  ((sample_weight > 0) | (estimator_weight < 0)))\n",
      "/Users/georgiakapatai/Dropbox/Courses/MScBirkbeck/FinalProject/Project/MaatPy/venv/lib/python3.7/site-packages/MaatPy-1.0-py3.7.egg/maatpy/classifiers/adacost.py:241: RuntimeWarning: overflow encountered in multiply\n",
      "  ((sample_weight > 0) | (estimator_weight < 0)))\n",
      "/Users/georgiakapatai/Dropbox/Courses/MScBirkbeck/FinalProject/Project/MaatPy/venv/lib/python3.7/site-packages/sklearn/tree/tree.py:276: RuntimeWarning: invalid value encountered in double_scalars\n",
      "  np.sum(sample_weight))\n",
      "/Users/georgiakapatai/Dropbox/Courses/MScBirkbeck/FinalProject/Project/MaatPy/venv/lib/python3.7/site-packages/numpy/lib/function_base.py:388: RuntimeWarning: invalid value encountered in multiply\n",
      "  avg = np.multiply(a, wgt, dtype=result_dtype).sum(axis)/scl\n",
      "/Users/georgiakapatai/Dropbox/Courses/MScBirkbeck/FinalProject/Project/MaatPy/venv/lib/python3.7/site-packages/MaatPy-1.0-py3.7.egg/maatpy/classifiers/adacost.py:241: RuntimeWarning: invalid value encountered in greater\n",
      "  ((sample_weight > 0) | (estimator_weight < 0)))\n",
      "/Users/georgiakapatai/Dropbox/Courses/MScBirkbeck/FinalProject/Project/MaatPy/venv/lib/python3.7/site-packages/MaatPy-1.0-py3.7.egg/maatpy/classifiers/adacost.py:241: RuntimeWarning: invalid value encountered in greater\n",
      "  ((sample_weight > 0) | (estimator_weight < 0)))\n",
      "/Users/georgiakapatai/Dropbox/Courses/MScBirkbeck/FinalProject/Project/MaatPy/venv/lib/python3.7/site-packages/MaatPy-1.0-py3.7.egg/maatpy/classifiers/adacost.py:241: RuntimeWarning: invalid value encountered in greater\n",
      "  ((sample_weight > 0) | (estimator_weight < 0)))\n",
      "/Users/georgiakapatai/Dropbox/Courses/MScBirkbeck/FinalProject/Project/MaatPy/venv/lib/python3.7/site-packages/MaatPy-1.0-py3.7.egg/maatpy/classifiers/adacost.py:241: RuntimeWarning: invalid value encountered in greater\n",
      "  ((sample_weight > 0) | (estimator_weight < 0)))\n",
      "/Users/georgiakapatai/Dropbox/Courses/MScBirkbeck/FinalProject/Project/MaatPy/venv/lib/python3.7/site-packages/MaatPy-1.0-py3.7.egg/maatpy/classifiers/adacost.py:241: RuntimeWarning: invalid value encountered in greater\n",
      "  ((sample_weight > 0) | (estimator_weight < 0)))\n",
      "/Users/georgiakapatai/Dropbox/Courses/MScBirkbeck/FinalProject/Project/MaatPy/venv/lib/python3.7/site-packages/MaatPy-1.0-py3.7.egg/maatpy/classifiers/adacost.py:241: RuntimeWarning: invalid value encountered in greater\n",
      "  ((sample_weight > 0) | (estimator_weight < 0)))\n",
      "/Users/georgiakapatai/Dropbox/Courses/MScBirkbeck/FinalProject/Project/MaatPy/venv/lib/python3.7/site-packages/MaatPy-1.0-py3.7.egg/maatpy/classifiers/adacost.py:241: RuntimeWarning: invalid value encountered in greater\n",
      "  ((sample_weight > 0) | (estimator_weight < 0)))\n",
      "/Users/georgiakapatai/Dropbox/Courses/MScBirkbeck/FinalProject/Project/MaatPy/venv/lib/python3.7/site-packages/MaatPy-1.0-py3.7.egg/maatpy/classifiers/adacost.py:241: RuntimeWarning: invalid value encountered in greater\n",
      "  ((sample_weight > 0) | (estimator_weight < 0)))\n",
      "/Users/georgiakapatai/Dropbox/Courses/MScBirkbeck/FinalProject/Project/MaatPy/venv/lib/python3.7/site-packages/MaatPy-1.0-py3.7.egg/maatpy/classifiers/adacost.py:241: RuntimeWarning: invalid value encountered in greater\n",
      "  ((sample_weight > 0) | (estimator_weight < 0)))\n",
      "/Users/georgiakapatai/Dropbox/Courses/MScBirkbeck/FinalProject/Project/MaatPy/venv/lib/python3.7/site-packages/MaatPy-1.0-py3.7.egg/maatpy/classifiers/adacost.py:241: RuntimeWarning: invalid value encountered in greater\n",
      "  ((sample_weight > 0) | (estimator_weight < 0)))\n",
      "/Users/georgiakapatai/Dropbox/Courses/MScBirkbeck/FinalProject/Project/MaatPy/venv/lib/python3.7/site-packages/MaatPy-1.0-py3.7.egg/maatpy/classifiers/adacost.py:241: RuntimeWarning: invalid value encountered in greater\n",
      "  ((sample_weight > 0) | (estimator_weight < 0)))\n",
      "/Users/georgiakapatai/Dropbox/Courses/MScBirkbeck/FinalProject/Project/MaatPy/venv/lib/python3.7/site-packages/MaatPy-1.0-py3.7.egg/maatpy/classifiers/adacost.py:241: RuntimeWarning: invalid value encountered in greater\n",
      "  ((sample_weight > 0) | (estimator_weight < 0)))\n",
      "/Users/georgiakapatai/Dropbox/Courses/MScBirkbeck/FinalProject/Project/MaatPy/venv/lib/python3.7/site-packages/MaatPy-1.0-py3.7.egg/maatpy/classifiers/adacost.py:241: RuntimeWarning: invalid value encountered in greater\n",
      "  ((sample_weight > 0) | (estimator_weight < 0)))\n",
      "/Users/georgiakapatai/Dropbox/Courses/MScBirkbeck/FinalProject/Project/MaatPy/venv/lib/python3.7/site-packages/MaatPy-1.0-py3.7.egg/maatpy/classifiers/adacost.py:241: RuntimeWarning: invalid value encountered in greater\n",
      "  ((sample_weight > 0) | (estimator_weight < 0)))\n",
      "/Users/georgiakapatai/Dropbox/Courses/MScBirkbeck/FinalProject/Project/MaatPy/venv/lib/python3.7/site-packages/MaatPy-1.0-py3.7.egg/maatpy/classifiers/adacost.py:241: RuntimeWarning: invalid value encountered in greater\n",
      "  ((sample_weight > 0) | (estimator_weight < 0)))\n",
      "/Users/georgiakapatai/Dropbox/Courses/MScBirkbeck/FinalProject/Project/MaatPy/venv/lib/python3.7/site-packages/MaatPy-1.0-py3.7.egg/maatpy/classifiers/adacost.py:241: RuntimeWarning: invalid value encountered in greater\n",
      "  ((sample_weight > 0) | (estimator_weight < 0)))\n",
      "/Users/georgiakapatai/Dropbox/Courses/MScBirkbeck/FinalProject/Project/MaatPy/venv/lib/python3.7/site-packages/MaatPy-1.0-py3.7.egg/maatpy/classifiers/adacost.py:241: RuntimeWarning: invalid value encountered in greater\n",
      "  ((sample_weight > 0) | (estimator_weight < 0)))\n",
      "/Users/georgiakapatai/Dropbox/Courses/MScBirkbeck/FinalProject/Project/MaatPy/venv/lib/python3.7/site-packages/MaatPy-1.0-py3.7.egg/maatpy/classifiers/adacost.py:241: RuntimeWarning: invalid value encountered in greater\n",
      "  ((sample_weight > 0) | (estimator_weight < 0)))\n",
      "/Users/georgiakapatai/Dropbox/Courses/MScBirkbeck/FinalProject/Project/MaatPy/venv/lib/python3.7/site-packages/MaatPy-1.0-py3.7.egg/maatpy/classifiers/adacost.py:241: RuntimeWarning: invalid value encountered in greater\n",
      "  ((sample_weight > 0) | (estimator_weight < 0)))\n",
      "/Users/georgiakapatai/Dropbox/Courses/MScBirkbeck/FinalProject/Project/MaatPy/venv/lib/python3.7/site-packages/MaatPy-1.0-py3.7.egg/maatpy/classifiers/adacost.py:241: RuntimeWarning: invalid value encountered in greater\n",
      "  ((sample_weight > 0) | (estimator_weight < 0)))\n",
      "/Users/georgiakapatai/Dropbox/Courses/MScBirkbeck/FinalProject/Project/MaatPy/venv/lib/python3.7/site-packages/MaatPy-1.0-py3.7.egg/maatpy/classifiers/adacost.py:241: RuntimeWarning: invalid value encountered in greater\n",
      "  ((sample_weight > 0) | (estimator_weight < 0)))\n",
      "/Users/georgiakapatai/Dropbox/Courses/MScBirkbeck/FinalProject/Project/MaatPy/venv/lib/python3.7/site-packages/MaatPy-1.0-py3.7.egg/maatpy/classifiers/adacost.py:241: RuntimeWarning: invalid value encountered in greater\n",
      "  ((sample_weight > 0) | (estimator_weight < 0)))\n",
      "/Users/georgiakapatai/Dropbox/Courses/MScBirkbeck/FinalProject/Project/MaatPy/venv/lib/python3.7/site-packages/MaatPy-1.0-py3.7.egg/maatpy/classifiers/adacost.py:241: RuntimeWarning: invalid value encountered in greater\n",
      "  ((sample_weight > 0) | (estimator_weight < 0)))\n"
     ]
    }
   ],
   "source": [
    "from sklearn.ensemble import AdaBoostClassifier\n",
    "from maatpy.classifiers import AdaCost\n",
    "\n",
    "results = {}\n",
    "for dataset in datasets:\n",
    "    X_train, y_train, X_test, y_test, features = datasets[dataset]\n",
    "    results[dataset] = {}\n",
    "    adaboost = AdaBoostClassifier(random_state=seed)\n",
    "    adaboost.fit(X_train, y_train)\n",
    "    y_pred = adaboost.predict(X_test)\n",
    "    kappa = cohen_kappa_score(y_test, y_pred)\n",
    "    results[dataset]['adaboost'] = kappa\n",
    "    algorithm = ['adacost', 'adac1', 'adac2', 'adac3']\n",
    "    for alg in algorithm:\n",
    "        clf = AdaCost(algorithm=alg, random_state=seed)\n",
    "        clf.fit(X_train, y_train)\n",
    "        y_pred = clf.predict(X_test)\n",
    "        kappa = cohen_kappa_score(y_test, y_pred)\n",
    "        results[dataset][alg] = kappa"
   ]
  },
  {
   "cell_type": "code",
   "execution_count": 11,
   "metadata": {
    "collapsed": false
   },
   "outputs": [
    {
     "data": {
      "text/html": [
       "<div>\n",
       "<style scoped>\n",
       "    .dataframe tbody tr th:only-of-type {\n",
       "        vertical-align: middle;\n",
       "    }\n",
       "\n",
       "    .dataframe tbody tr th {\n",
       "        vertical-align: top;\n",
       "    }\n",
       "\n",
       "    .dataframe thead th {\n",
       "        text-align: right;\n",
       "    }\n",
       "</style>\n",
       "<table border=\"1\" class=\"dataframe\">\n",
       "  <thead>\n",
       "    <tr style=\"text-align: right;\">\n",
       "      <th></th>\n",
       "      <th>Iris</th>\n",
       "      <th>yeast</th>\n",
       "      <th>satimage</th>\n",
       "      <th>abalone</th>\n",
       "      <th>heart</th>\n",
       "    </tr>\n",
       "  </thead>\n",
       "  <tbody>\n",
       "    <tr>\n",
       "      <th>adaboost</th>\n",
       "      <td>0.866667</td>\n",
       "      <td>0.258505</td>\n",
       "      <td>0.639031</td>\n",
       "      <td>0.062700</td>\n",
       "      <td>0.526316</td>\n",
       "    </tr>\n",
       "    <tr>\n",
       "      <th>adac1</th>\n",
       "      <td>0.933333</td>\n",
       "      <td>0.000000</td>\n",
       "      <td>0.103350</td>\n",
       "      <td>0.011134</td>\n",
       "      <td>0.464865</td>\n",
       "    </tr>\n",
       "    <tr>\n",
       "      <th>adac2</th>\n",
       "      <td>0.933333</td>\n",
       "      <td>0.004627</td>\n",
       "      <td>0.086508</td>\n",
       "      <td>0.000000</td>\n",
       "      <td>0.000000</td>\n",
       "    </tr>\n",
       "    <tr>\n",
       "      <th>adac3</th>\n",
       "      <td>0.500000</td>\n",
       "      <td>0.004627</td>\n",
       "      <td>0.204140</td>\n",
       "      <td>0.012779</td>\n",
       "      <td>0.000000</td>\n",
       "    </tr>\n",
       "    <tr>\n",
       "      <th>adacost</th>\n",
       "      <td>0.933333</td>\n",
       "      <td>0.004627</td>\n",
       "      <td>0.103350</td>\n",
       "      <td>0.011134</td>\n",
       "      <td>0.628099</td>\n",
       "    </tr>\n",
       "  </tbody>\n",
       "</table>\n",
       "</div>"
      ],
      "text/plain": [
       "              Iris     yeast  satimage   abalone     heart\n",
       "adaboost  0.866667  0.258505  0.639031  0.062700  0.526316\n",
       "adac1     0.933333  0.000000  0.103350  0.011134  0.464865\n",
       "adac2     0.933333  0.004627  0.086508  0.000000  0.000000\n",
       "adac3     0.500000  0.004627  0.204140  0.012779  0.000000\n",
       "adacost   0.933333  0.004627  0.103350  0.011134  0.628099"
      ]
     },
     "execution_count": 11,
     "metadata": {},
     "output_type": "execute_result"
    }
   ],
   "source": [
    "df1 = pd.DataFrame.from_dict(results)\n",
    "\n",
    "df1"
   ]
  },
  {
   "cell_type": "markdown",
   "metadata": {},
   "source": [
    "## BalancedRandomForestClassifier"
   ]
  },
  {
   "cell_type": "code",
   "execution_count": 12,
   "metadata": {
    "collapsed": false
   },
   "outputs": [
    {
     "name": "stderr",
     "output_type": "stream",
     "text": [
      "/Users/georgiakapatai/Dropbox/Courses/MScBirkbeck/FinalProject/Project/MaatPy/venv/lib/python3.7/site-packages/sklearn/utils/validation.py:578: DataConversionWarning: A column-vector y was passed when a 1d array was expected. Please change the shape of y to (n_samples, ), for example using ravel().\n",
      "  y = column_or_1d(y, warn=True)\n",
      "/Users/georgiakapatai/Dropbox/Courses/MScBirkbeck/FinalProject/Project/MaatPy/venv/lib/python3.7/site-packages/sklearn/utils/validation.py:578: DataConversionWarning: A column-vector y was passed when a 1d array was expected. Please change the shape of y to (n_samples, ), for example using ravel().\n",
      "  y = column_or_1d(y, warn=True)\n",
      "/Users/georgiakapatai/Dropbox/Courses/MScBirkbeck/FinalProject/Project/MaatPy/venv/lib/python3.7/site-packages/sklearn/utils/validation.py:578: DataConversionWarning: A column-vector y was passed when a 1d array was expected. Please change the shape of y to (n_samples, ), for example using ravel().\n",
      "  y = column_or_1d(y, warn=True)\n",
      "/Users/georgiakapatai/Dropbox/Courses/MScBirkbeck/FinalProject/Project/MaatPy/venv/lib/python3.7/site-packages/sklearn/utils/validation.py:578: DataConversionWarning: A column-vector y was passed when a 1d array was expected. Please change the shape of y to (n_samples, ), for example using ravel().\n",
      "  y = column_or_1d(y, warn=True)\n",
      "/Users/georgiakapatai/Dropbox/Courses/MScBirkbeck/FinalProject/Project/MaatPy/venv/lib/python3.7/site-packages/sklearn/utils/validation.py:578: DataConversionWarning: A column-vector y was passed when a 1d array was expected. Please change the shape of y to (n_samples, ), for example using ravel().\n",
      "  y = column_or_1d(y, warn=True)\n"
     ]
    }
   ],
   "source": [
    "from sklearn.ensemble import RandomForestClassifier\n",
    "from maatpy.classifiers import BalancedRandomForestClassifier\n",
    "from imblearn.under_sampling import RandomUnderSampler\n",
    "from imblearn.pipeline import make_pipeline\n",
    "\n",
    "results = {}\n",
    "for dataset in datasets:\n",
    "    X_train, y_train, X_test, y_test, features = datasets[dataset]\n",
    "    results[dataset] = {}\n",
    "\n",
    "    original = RandomForestClassifier(random_state=seed)\n",
    "    original.fit(X_train, y_train)\n",
    "    y_pred = original.predict(X_test)\n",
    "    kappa = cohen_kappa_score(y_test, y_pred)\n",
    "    results[dataset]['RandomForestClassifier'] = kappa\n",
    "\n",
    "    modified = BalancedRandomForestClassifier(random_state=seed, class_weight='balanced')\n",
    "    modified.fit(X_train, y_train)\n",
    "    y_pred = modified.predict(X_test)\n",
    "    kappa = cohen_kappa_score(y_test, y_pred)\n",
    "    results[dataset]['BalancedRandomForestClassifier'] = kappa\n",
    "    \n",
    "    pipeline = make_pipeline(RandomUnderSampler(random_state=seed), original)\n",
    "    pipeline.fit(X_train, y_train)\n",
    "    y_pred = pipeline.predict(X_test)\n",
    "    kappa = cohen_kappa_score(y_test, y_pred)\n",
    "    results[dataset]['Pipeline(RUS, RF)'] = kappa"
   ]
  },
  {
   "cell_type": "code",
   "execution_count": 13,
   "metadata": {
    "collapsed": false
   },
   "outputs": [
    {
     "data": {
      "text/html": [
       "<div>\n",
       "<style scoped>\n",
       "    .dataframe tbody tr th:only-of-type {\n",
       "        vertical-align: middle;\n",
       "    }\n",
       "\n",
       "    .dataframe tbody tr th {\n",
       "        vertical-align: top;\n",
       "    }\n",
       "\n",
       "    .dataframe thead th {\n",
       "        text-align: right;\n",
       "    }\n",
       "</style>\n",
       "<table border=\"1\" class=\"dataframe\">\n",
       "  <thead>\n",
       "    <tr style=\"text-align: right;\">\n",
       "      <th></th>\n",
       "      <th>Iris</th>\n",
       "      <th>yeast</th>\n",
       "      <th>satimage</th>\n",
       "      <th>abalone</th>\n",
       "      <th>heart</th>\n",
       "    </tr>\n",
       "  </thead>\n",
       "  <tbody>\n",
       "    <tr>\n",
       "      <th>BalancedRandomForestClassifier</th>\n",
       "      <td>0.933333</td>\n",
       "      <td>0.195164</td>\n",
       "      <td>0.855370</td>\n",
       "      <td>0.108234</td>\n",
       "      <td>0.550000</td>\n",
       "    </tr>\n",
       "    <tr>\n",
       "      <th>Pipeline(RUS, RF)</th>\n",
       "      <td>0.933333</td>\n",
       "      <td>0.122419</td>\n",
       "      <td>0.846959</td>\n",
       "      <td>0.106745</td>\n",
       "      <td>0.623955</td>\n",
       "    </tr>\n",
       "    <tr>\n",
       "      <th>RandomForestClassifier</th>\n",
       "      <td>0.933333</td>\n",
       "      <td>0.507936</td>\n",
       "      <td>0.876295</td>\n",
       "      <td>0.124630</td>\n",
       "      <td>0.593220</td>\n",
       "    </tr>\n",
       "  </tbody>\n",
       "</table>\n",
       "</div>"
      ],
      "text/plain": [
       "                                    Iris     yeast  satimage   abalone  \\\n",
       "BalancedRandomForestClassifier  0.933333  0.195164  0.855370  0.108234   \n",
       "Pipeline(RUS, RF)               0.933333  0.122419  0.846959  0.106745   \n",
       "RandomForestClassifier          0.933333  0.507936  0.876295  0.124630   \n",
       "\n",
       "                                   heart  \n",
       "BalancedRandomForestClassifier  0.550000  \n",
       "Pipeline(RUS, RF)               0.623955  \n",
       "RandomForestClassifier          0.593220  "
      ]
     },
     "execution_count": 13,
     "metadata": {},
     "output_type": "execute_result"
    }
   ],
   "source": [
    "df1 = pd.DataFrame.from_dict(results)\n",
    "\n",
    "df1"
   ]
  },
  {
   "cell_type": "markdown",
   "metadata": {},
   "source": [
    "## SMOTEBoost"
   ]
  },
  {
   "cell_type": "raw",
   "metadata": {},
   "source": [
    "Running the analysis on the yeast dataset resulted to this error:\n",
    "ValueError: Expected n_neighbors <= n_samples,  but n_samples = 3, n_neighbors = 4\n",
    "Class #1 has only 5 samples which when split into training and test set do not have enough samples to run the k-nearest neighbours algorithm for SMOTE even when k_neighbours are dropped to 3.\n",
    "All subsequent SMOTE evaluations will use the following modified dataset which removes class 1."
   ]
  },
  {
   "cell_type": "code",
   "execution_count": 14,
   "metadata": {
    "collapsed": false
   },
   "outputs": [
    {
     "name": "stdout",
     "output_type": "stream",
     "text": [
      "(1479, 8)\n",
      "Counter({0: 463, 7: 429, 6: 244, 5: 163, 4: 51, 3: 44, 2: 35, 9: 30, 8: 20})\n"
     ]
    }
   ],
   "source": [
    "X_mod= X2[y2!=1]\n",
    "y_mod = y2[y2!=1]\n",
    "print(X_mod.shape)\n",
    "print(Counter(y_mod))\n",
    "sss = StratifiedShuffleSplit(n_splits=5, test_size=0.3, random_state=seed)\n",
    "sss.get_n_splits(X_mod, y_mod)\n",
    "for train_index, test_index in sss.split(X_mod, y_mod):\n",
    "    Xm_train, Xm_test = X_mod[train_index], X_mod[test_index]\n",
    "    ym_train, ym_test = y_mod[train_index], y_mod[test_index]\n",
    "datasets['yeast'] = [Xm_train, ym_train, Xm_test, ym_test, 8]"
   ]
  },
  {
   "cell_type": "code",
   "execution_count": 15,
   "metadata": {
    "collapsed": false
   },
   "outputs": [],
   "source": [
    "from maatpy.classifiers import SMOTEBoost\n",
    "from imblearn.over_sampling import SMOTE\n",
    "from SMOTEBoost import SMOTEBoost as SMOTEBoost1\n",
    "results = {}\n",
    "for dataset in datasets:\n",
    "    X_train, y_train, X_test, y_test, features = datasets[dataset]\n",
    "    results[dataset] = {}\n",
    "\n",
    "    original = AdaBoostClassifier(random_state=seed)\n",
    "    original.fit(X_train, y_train)\n",
    "    y_pred = original.predict(X_test)\n",
    "    kappa = cohen_kappa_score(y_test, y_pred)\n",
    "    results[dataset]['AdaBoost'] = kappa\n",
    "\n",
    "    modified = SMOTEBoost(random_state=seed)\n",
    "    modified.fit(X_train, y_train)\n",
    "    y_pred = modified.predict(X_test)\n",
    "    kappa = cohen_kappa_score(y_test, y_pred)\n",
    "    results[dataset]['maatpy.SMOTEBoost'] = kappa\n",
    "\n",
    "    alternative = SMOTEBoost1(random_state=seed)\n",
    "    alternative.fit(X_train, y_train)\n",
    "    y_pred = alternative.predict(X_test)\n",
    "    kappa = cohen_kappa_score(y_test, y_pred)\n",
    "    results[dataset]['dialnd.SMOTEBoost'] = kappa"
   ]
  },
  {
   "cell_type": "code",
   "execution_count": 16,
   "metadata": {
    "collapsed": false
   },
   "outputs": [
    {
     "data": {
      "text/html": [
       "<div>\n",
       "<style scoped>\n",
       "    .dataframe tbody tr th:only-of-type {\n",
       "        vertical-align: middle;\n",
       "    }\n",
       "\n",
       "    .dataframe tbody tr th {\n",
       "        vertical-align: top;\n",
       "    }\n",
       "\n",
       "    .dataframe thead th {\n",
       "        text-align: right;\n",
       "    }\n",
       "</style>\n",
       "<table border=\"1\" class=\"dataframe\">\n",
       "  <thead>\n",
       "    <tr style=\"text-align: right;\">\n",
       "      <th></th>\n",
       "      <th>Iris</th>\n",
       "      <th>yeast</th>\n",
       "      <th>satimage</th>\n",
       "      <th>abalone</th>\n",
       "      <th>heart</th>\n",
       "    </tr>\n",
       "  </thead>\n",
       "  <tbody>\n",
       "    <tr>\n",
       "      <th>AdaBoost</th>\n",
       "      <td>0.866667</td>\n",
       "      <td>0.260323</td>\n",
       "      <td>0.639031</td>\n",
       "      <td>0.062700</td>\n",
       "      <td>0.526316</td>\n",
       "    </tr>\n",
       "    <tr>\n",
       "      <th>dialnd.SMOTEBoost</th>\n",
       "      <td>0.900000</td>\n",
       "      <td>0.116109</td>\n",
       "      <td>0.522300</td>\n",
       "      <td>0.046797</td>\n",
       "      <td>0.608696</td>\n",
       "    </tr>\n",
       "    <tr>\n",
       "      <th>maatpy.SMOTEBoost</th>\n",
       "      <td>0.933333</td>\n",
       "      <td>0.475467</td>\n",
       "      <td>0.354460</td>\n",
       "      <td>0.073587</td>\n",
       "      <td>0.482192</td>\n",
       "    </tr>\n",
       "  </tbody>\n",
       "</table>\n",
       "</div>"
      ],
      "text/plain": [
       "                       Iris     yeast  satimage   abalone     heart\n",
       "AdaBoost           0.866667  0.260323  0.639031  0.062700  0.526316\n",
       "dialnd.SMOTEBoost  0.900000  0.116109  0.522300  0.046797  0.608696\n",
       "maatpy.SMOTEBoost  0.933333  0.475467  0.354460  0.073587  0.482192"
      ]
     },
     "execution_count": 16,
     "metadata": {},
     "output_type": "execute_result"
    }
   ],
   "source": [
    "df1 = pd.DataFrame.from_dict(results)\n",
    "\n",
    "df1"
   ]
  },
  {
   "cell_type": "markdown",
   "metadata": {},
   "source": [
    "### Debugging SMOTEBoost satimage issues"
   ]
  },
  {
   "cell_type": "code",
   "execution_count": 17,
   "metadata": {
    "collapsed": false
   },
   "outputs": [
    {
     "name": "stdout",
     "output_type": "stream",
     "text": [
      "Counter({0: 1072, 5: 1038, 2: 961, 1: 479, 4: 470, 3: 415})\n",
      "0.6390306934036836\n",
      "Counter({2: 1072, 3: 1072, 4: 1072, 5: 1072, 1: 1072, 0: 1072})\n",
      "0.6361094411558388\n"
     ]
    }
   ],
   "source": [
    "from imblearn.over_sampling import SMOTE\n",
    "from sklearn.ensemble import AdaBoostClassifier\n",
    "from sklearn.metrics import cohen_kappa_score\n",
    "clf = AdaBoostClassifier(random_state=seed)\n",
    "print(Counter(y3_train))\n",
    "clf.fit(X3_train, y3_train)\n",
    "y_pred = clf.predict(X3_test)\n",
    "print(cohen_kappa_score(y3_test, y_pred))\n",
    "X_res, y_res = SMOTE(random_state=seed).fit_sample(X3_train, y3_train)\n",
    "print(Counter(y_res))\n",
    "clf.fit(X_res, y_res)\n",
    "y_pred = clf.predict(X3_test)\n",
    "print(cohen_kappa_score(y3_test, y_pred))\n",
    "scores = []\n",
    "for n in range(1,51):\n",
    "    clf = SMOTEBoost(n_estimators=n, random_state=seed)\n",
    "    clf.fit(X3_train, y3_train)\n",
    "    y_pred = clf.predict(X3_test)\n",
    "    kappa = cohen_kappa_score(y3_test, y_pred)\n",
    "    scores.append(kappa)"
   ]
  },
  {
   "cell_type": "code",
   "execution_count": 18,
   "metadata": {
    "collapsed": false
   },
   "outputs": [
    {
     "data": {
      "text/plain": [
       "<Figure size 640x480 with 1 Axes>"
      ]
     },
     "metadata": {},
     "output_type": "display_data"
    }
   ],
   "source": [
    "from matplotlib import pyplot as plt\n",
    "plt.plot(list(range(1,51)), scores)\n",
    "plt.ylabel('kappa score')\n",
    "plt.xlabel('n_estimator')\n",
    "plt.show()"
   ]
  },
  {
   "cell_type": "markdown",
   "metadata": {},
   "source": [
    "## SMOTEBagging"
   ]
  },
  {
   "cell_type": "code",
   "execution_count": 19,
   "metadata": {
    "collapsed": false
   },
   "outputs": [],
   "source": [
    "from sklearn.ensemble import BaggingClassifier\n",
    "from imblearn.ensemble import BalancedBaggingClassifier\n",
    "from maatpy.classifiers import SMOTEBagging\n",
    "from maatpy.classifiers import SMOTEBoost\n",
    "results = {}\n",
    "for dataset in datasets:\n",
    "    X_train, y_train, X_test, y_test, features = datasets[dataset]\n",
    "    results[dataset] = {}\n",
    "\n",
    "    original = BaggingClassifier(random_state=seed)\n",
    "    original.fit(X_train, y_train)\n",
    "    y_pred = original.predict(X_test)\n",
    "    kappa = cohen_kappa_score(y_test, y_pred)\n",
    "    results[dataset]['BaggingClassifier'] = kappa\n",
    "    imblearn = BalancedBaggingClassifier(random_state=seed)\n",
    "    imblearn.fit(X_train, y_train)\n",
    "    y_pred = imblearn.predict(X_test)\n",
    "    kappa = cohen_kappa_score(y_test, y_pred)\n",
    "    results[dataset]['BalancedBaggingClassifier'] = kappa\n",
    "    modified = SMOTEBagging(random_state=seed, k_neighbors=3)\n",
    "    modified.fit(X_train, y_train)\n",
    "    y_pred = modified.predict(X_test)\n",
    "    kappa = cohen_kappa_score(y_test, y_pred)\n",
    "    results[dataset]['SMOTEBagging'] = kappa"
   ]
  },
  {
   "cell_type": "code",
   "execution_count": 20,
   "metadata": {
    "collapsed": false
   },
   "outputs": [
    {
     "data": {
      "text/html": [
       "<div>\n",
       "<style scoped>\n",
       "    .dataframe tbody tr th:only-of-type {\n",
       "        vertical-align: middle;\n",
       "    }\n",
       "\n",
       "    .dataframe tbody tr th {\n",
       "        vertical-align: top;\n",
       "    }\n",
       "\n",
       "    .dataframe thead th {\n",
       "        text-align: right;\n",
       "    }\n",
       "</style>\n",
       "<table border=\"1\" class=\"dataframe\">\n",
       "  <thead>\n",
       "    <tr style=\"text-align: right;\">\n",
       "      <th></th>\n",
       "      <th>Iris</th>\n",
       "      <th>yeast</th>\n",
       "      <th>satimage</th>\n",
       "      <th>abalone</th>\n",
       "      <th>heart</th>\n",
       "    </tr>\n",
       "  </thead>\n",
       "  <tbody>\n",
       "    <tr>\n",
       "      <th>BaggingClassifier</th>\n",
       "      <td>0.933333</td>\n",
       "      <td>0.493312</td>\n",
       "      <td>0.871468</td>\n",
       "      <td>0.123046</td>\n",
       "      <td>0.621849</td>\n",
       "    </tr>\n",
       "    <tr>\n",
       "      <th>BalancedBaggingClassifier</th>\n",
       "      <td>0.933333</td>\n",
       "      <td>0.368569</td>\n",
       "      <td>0.859283</td>\n",
       "      <td>0.124696</td>\n",
       "      <td>0.672269</td>\n",
       "    </tr>\n",
       "    <tr>\n",
       "      <th>SMOTEBagging</th>\n",
       "      <td>0.933333</td>\n",
       "      <td>0.491887</td>\n",
       "      <td>0.866121</td>\n",
       "      <td>0.140777</td>\n",
       "      <td>0.621849</td>\n",
       "    </tr>\n",
       "  </tbody>\n",
       "</table>\n",
       "</div>"
      ],
      "text/plain": [
       "                               Iris     yeast  satimage   abalone     heart\n",
       "BaggingClassifier          0.933333  0.493312  0.871468  0.123046  0.621849\n",
       "BalancedBaggingClassifier  0.933333  0.368569  0.859283  0.124696  0.672269\n",
       "SMOTEBagging               0.933333  0.491887  0.866121  0.140777  0.621849"
      ]
     },
     "execution_count": 20,
     "metadata": {},
     "output_type": "execute_result"
    }
   ],
   "source": [
    "df1 = pd.DataFrame.from_dict(results)\n",
    "\n",
    "df1"
   ]
  },
  {
   "cell_type": "markdown",
   "metadata": {},
   "source": [
    "## SMOTEEEN"
   ]
  },
  {
   "cell_type": "code",
   "execution_count": 21,
   "metadata": {
    "collapsed": false
   },
   "outputs": [],
   "source": [
    "from imblearn.combine import SMOTEENN as SMOTEENN1\n",
    "from maatpy.samplers import SMOTEENN as SMOTEENN2\n",
    "from imblearn.over_sampling import SMOTE\n",
    "from sklearn.svm import SVC\n",
    "from maatpy.pipeline import make_pipeline\n",
    "clf = SVC(kernel=\"linear\",random_state=seed)\n",
    "results = {}\n",
    "for dataset in datasets:\n",
    "    X_train, y_train, X_test, y_test, features = datasets[dataset]\n",
    "    results[dataset] = {}\n",
    "    original = make_pipeline(SMOTEENN1(random_state=seed), clf)\n",
    "    original.fit(X_train, y_train)\n",
    "    y_pred = original.predict(X_test)\n",
    "    kappa = cohen_kappa_score(y_test, y_pred)\n",
    "    results[dataset]['imblearn.SMOTEENN'] = kappa         \n",
    "    try:\n",
    "        modified = make_pipeline(SMOTEENN2(random_state=seed), clf)   \n",
    "        modified.fit(X_train, y_train)\n",
    "        y_pred = modified.predict(X_test)\n",
    "        kappa = cohen_kappa_score(y_test, y_pred)\n",
    "        results[dataset]['maatpy.SMOTEENN'] = kappa\n",
    "    except ValueError:\n",
    "         results[dataset]['maatpy.SMOTEENN'] = None"
   ]
  },
  {
   "cell_type": "code",
   "execution_count": 22,
   "metadata": {
    "collapsed": false
   },
   "outputs": [
    {
     "data": {
      "text/html": [
       "<div>\n",
       "<style scoped>\n",
       "    .dataframe tbody tr th:only-of-type {\n",
       "        vertical-align: middle;\n",
       "    }\n",
       "\n",
       "    .dataframe tbody tr th {\n",
       "        vertical-align: top;\n",
       "    }\n",
       "\n",
       "    .dataframe thead th {\n",
       "        text-align: right;\n",
       "    }\n",
       "</style>\n",
       "<table border=\"1\" class=\"dataframe\">\n",
       "  <thead>\n",
       "    <tr style=\"text-align: right;\">\n",
       "      <th></th>\n",
       "      <th>Iris</th>\n",
       "      <th>yeast</th>\n",
       "      <th>satimage</th>\n",
       "      <th>abalone</th>\n",
       "      <th>heart</th>\n",
       "    </tr>\n",
       "  </thead>\n",
       "  <tbody>\n",
       "    <tr>\n",
       "      <th>imblearn.SMOTEENN</th>\n",
       "      <td>0.966667</td>\n",
       "      <td>0.249430</td>\n",
       "      <td>0.790968</td>\n",
       "      <td>0.047812</td>\n",
       "      <td>0.311346</td>\n",
       "    </tr>\n",
       "    <tr>\n",
       "      <th>maatpy.SMOTEENN</th>\n",
       "      <td>0.966667</td>\n",
       "      <td>0.482592</td>\n",
       "      <td>0.826216</td>\n",
       "      <td>NaN</td>\n",
       "      <td>0.521008</td>\n",
       "    </tr>\n",
       "  </tbody>\n",
       "</table>\n",
       "</div>"
      ],
      "text/plain": [
       "                       Iris     yeast  satimage   abalone     heart\n",
       "imblearn.SMOTEENN  0.966667  0.249430  0.790968  0.047812  0.311346\n",
       "maatpy.SMOTEENN    0.966667  0.482592  0.826216       NaN  0.521008"
      ]
     },
     "execution_count": 22,
     "metadata": {},
     "output_type": "execute_result"
    }
   ],
   "source": [
    "df1 = pd.DataFrame.from_dict(results)\n",
    "\n",
    "df1"
   ]
  },
  {
   "cell_type": "code",
   "execution_count": 23,
   "metadata": {
    "collapsed": false
   },
   "outputs": [
    {
     "name": "stdout",
     "output_type": "stream",
     "text": [
      "Counter({5: 482, 6: 444, 4: 398, 7: 341, 3: 274, 8: 187, 2: 181, 9: 142, 10: 88, 1: 80, 11: 72, 12: 47, 13: 41, 0: 40, 14: 29, 15: 22})\n",
      "Counter({15: 22, 4: 15, 5: 13, 6: 12, 0: 7, 3: 7, 12: 2, 2: 1, 7: 1})\n"
     ]
    }
   ],
   "source": [
    "from imblearn.under_sampling import EditedNearestNeighbours\n",
    "print(Counter(y4_train))\n",
    "X_res, y_res = EditedNearestNeighbours(random_state=seed).fit_sample(X4_train, y4_train)\n",
    "print(Counter(y_res))"
   ]
  },
  {
   "cell_type": "markdown",
   "metadata": {},
   "source": [
    "## SMOTETomek"
   ]
  },
  {
   "cell_type": "code",
   "execution_count": 24,
   "metadata": {
    "collapsed": false
   },
   "outputs": [],
   "source": [
    "from imblearn.combine import SMOTETomek as SMOTETomek1\n",
    "from maatpy.samplers import SMOTETomek as SMOTETomek2\n",
    "clf = SVC(kernel=\"linear\",random_state=seed)\n",
    "results = {}\n",
    "for dataset in datasets:\n",
    "    X_train, y_train, X_test, y_test, features = datasets[dataset]\n",
    "    results[dataset] = {}\n",
    "\n",
    "    original = make_pipeline(SMOTETomek1(random_state=seed), clf)\n",
    "    original.fit(X_train, y_train)\n",
    "    y_pred = original.predict(X_test)\n",
    "    kappa = cohen_kappa_score(y_test, y_pred)\n",
    "    results[dataset]['imblearn.SMOTETomek'] = kappa\n",
    "\n",
    "    modified = make_pipeline(SMOTETomek2(random_state=seed), clf)\n",
    "    try:\n",
    "        modified.fit(X_train, y_train)\n",
    "        y_pred = modified.predict(X_test)\n",
    "        kappa = cohen_kappa_score(y_test, y_pred)\n",
    "        results[dataset]['maatpy.SMOTETomek'] = kappa\n",
    "    except ValueError:\n",
    "         results[dataset]['maatpy.SMOTETomek'] = None"
   ]
  },
  {
   "cell_type": "code",
   "execution_count": 25,
   "metadata": {
    "collapsed": false
   },
   "outputs": [
    {
     "data": {
      "text/html": [
       "<div>\n",
       "<style scoped>\n",
       "    .dataframe tbody tr th:only-of-type {\n",
       "        vertical-align: middle;\n",
       "    }\n",
       "\n",
       "    .dataframe tbody tr th {\n",
       "        vertical-align: top;\n",
       "    }\n",
       "\n",
       "    .dataframe thead th {\n",
       "        text-align: right;\n",
       "    }\n",
       "</style>\n",
       "<table border=\"1\" class=\"dataframe\">\n",
       "  <thead>\n",
       "    <tr style=\"text-align: right;\">\n",
       "      <th></th>\n",
       "      <th>Iris</th>\n",
       "      <th>yeast</th>\n",
       "      <th>satimage</th>\n",
       "      <th>abalone</th>\n",
       "      <th>heart</th>\n",
       "    </tr>\n",
       "  </thead>\n",
       "  <tbody>\n",
       "    <tr>\n",
       "      <th>imblearn.SMOTETomek</th>\n",
       "      <td>0.966667</td>\n",
       "      <td>0.368849</td>\n",
       "      <td>0.819000</td>\n",
       "      <td>0.106814</td>\n",
       "      <td>0.550000</td>\n",
       "    </tr>\n",
       "    <tr>\n",
       "      <th>maatpy.SMOTETomek</th>\n",
       "      <td>0.966667</td>\n",
       "      <td>0.457230</td>\n",
       "      <td>0.821952</td>\n",
       "      <td>0.136378</td>\n",
       "      <td>0.573816</td>\n",
       "    </tr>\n",
       "  </tbody>\n",
       "</table>\n",
       "</div>"
      ],
      "text/plain": [
       "                         Iris     yeast  satimage   abalone     heart\n",
       "imblearn.SMOTETomek  0.966667  0.368849  0.819000  0.106814  0.550000\n",
       "maatpy.SMOTETomek    0.966667  0.457230  0.821952  0.136378  0.573816"
      ]
     },
     "execution_count": 25,
     "metadata": {},
     "output_type": "execute_result"
    }
   ],
   "source": [
    "df1 = pd.DataFrame.from_dict(results)\n",
    "\n",
    "df1"
   ]
  }
 ],
 "metadata": {
  "anaconda-cloud": {},
  "kernelspec": {
   "display_name": "maatpy",
   "language": "python",
   "name": "maatpy"
  },
  "language_info": {
   "codemirror_mode": {
    "name": "ipython",
    "version": 3
   },
   "file_extension": ".py",
   "mimetype": "text/x-python",
   "name": "python",
   "nbconvert_exporter": "python",
   "pygments_lexer": "ipython3",
   "version": "3.7.0"
  }
 },
 "nbformat": 4,
 "nbformat_minor": 1
}
